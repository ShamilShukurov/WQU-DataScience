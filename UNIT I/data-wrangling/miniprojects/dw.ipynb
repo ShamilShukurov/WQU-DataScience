{
 "cells": [
  {
   "cell_type": "code",
   "execution_count": 105,
   "metadata": {
    "init_cell": true
   },
   "outputs": [],
   "source": [
    "%logstop\n",
    "%logstart -rtq ~/.logs/dw.py append\n",
    "%matplotlib inline\n",
    "import matplotlib\n",
    "import seaborn as sns\n",
    "sns.set()\n",
    "matplotlib.rcParams['figure.dpi'] = 144"
   ]
  },
  {
   "cell_type": "code",
   "execution_count": 5,
   "metadata": {},
   "outputs": [],
   "source": [
    "from static_grader import grader"
   ]
  },
  {
   "cell_type": "markdown",
   "metadata": {},
   "source": [
    "# DW Miniproject\n",
    "## Introduction\n",
    "\n",
    "The objective of this miniproject is to exercise your ability to wrangle tabular data set and aggregate large data sets into meaningful summary statistics. We'll work with the same medical data used in the `pw` miniproject but leverage the power of Pandas to more efficiently represent and act on our data."
   ]
  },
  {
   "cell_type": "markdown",
   "metadata": {},
   "source": [
    "## Downloading the data\n",
    "\n",
    "We first need to download the data we'll be using from Amazon S3:"
   ]
  },
  {
   "cell_type": "code",
   "execution_count": 6,
   "metadata": {},
   "outputs": [
    {
     "name": "stdout",
     "output_type": "stream",
     "text": [
      "mkdir: cannot create directory ‘dw-data’: File exists\n",
      "File ‘./dw-data/201701scripts_sample.csv.gz’ already there; not retrieving.\n",
      "\n",
      "File ‘./dw-data/201606scripts_sample.csv.gz’ already there; not retrieving.\n",
      "\n",
      "File ‘./dw-data/practices.csv.gz’ already there; not retrieving.\n",
      "\n",
      "File ‘./dw-data/chem.csv.gz’ already there; not retrieving.\n",
      "\n"
     ]
    }
   ],
   "source": [
    "!mkdir dw-data\n",
    "!wget http://dataincubator-wqu.s3.amazonaws.com/dwdata/201701scripts_sample.csv.gz -nc -P ./dw-data/\n",
    "!wget http://dataincubator-wqu.s3.amazonaws.com/dwdata/201606scripts_sample.csv.gz -nc -P ./dw-data/\n",
    "!wget http://dataincubator-wqu.s3.amazonaws.com/dwdata/practices.csv.gz -nc -P ./dw-data/\n",
    "!wget http://dataincubator-wqu.s3.amazonaws.com/dwdata/chem.csv.gz -nc -P ./dw-data/"
   ]
  },
  {
   "cell_type": "markdown",
   "metadata": {},
   "source": [
    "## Loading the data\n",
    "\n",
    "Similar to the `PW` miniproject, the first step is to read in the data. The data files are stored as compressed CSV files. You can load the data into a Pandas DataFrame by making use of the `gzip` package to decompress the files and Panda's `read_csv` methods to parse the data into a DataFrame. You may want to check the Pandas documentation for parsing [CSV](http://pandas.pydata.org/pandas-docs/stable/generated/pandas.read_csv.html) files for reference.\n",
    "\n",
    "For a description of the data set please, refer to the [PW miniproject](./pw.ipynb). **Note that all questions make use of the 2017 data only, except for Question 5 which makes use of both the 2017 and 2016 data.**"
   ]
  },
  {
   "cell_type": "code",
   "execution_count": 7,
   "metadata": {},
   "outputs": [],
   "source": [
    "import pandas as pd\n",
    "import numpy as np\n",
    "import gzip"
   ]
  },
  {
   "cell_type": "code",
   "execution_count": 8,
   "metadata": {},
   "outputs": [
    {
     "data": {
      "text/html": [
       "<div>\n",
       "<style scoped>\n",
       "    .dataframe tbody tr th:only-of-type {\n",
       "        vertical-align: middle;\n",
       "    }\n",
       "\n",
       "    .dataframe tbody tr th {\n",
       "        vertical-align: top;\n",
       "    }\n",
       "\n",
       "    .dataframe thead th {\n",
       "        text-align: right;\n",
       "    }\n",
       "</style>\n",
       "<table border=\"1\" class=\"dataframe\">\n",
       "  <thead>\n",
       "    <tr style=\"text-align: right;\">\n",
       "      <th></th>\n",
       "      <th>practice</th>\n",
       "      <th>bnf_code</th>\n",
       "      <th>bnf_name</th>\n",
       "      <th>items</th>\n",
       "      <th>nic</th>\n",
       "      <th>act_cost</th>\n",
       "      <th>quantity</th>\n",
       "    </tr>\n",
       "  </thead>\n",
       "  <tbody>\n",
       "    <tr>\n",
       "      <th>0</th>\n",
       "      <td>N85639</td>\n",
       "      <td>0106020C0</td>\n",
       "      <td>Bisacodyl_Tab E/C 5mg</td>\n",
       "      <td>1</td>\n",
       "      <td>0.39</td>\n",
       "      <td>0.47</td>\n",
       "      <td>12</td>\n",
       "    </tr>\n",
       "    <tr>\n",
       "      <th>1</th>\n",
       "      <td>N85639</td>\n",
       "      <td>0106040M0</td>\n",
       "      <td>Movicol Plain_Paed Pdr Sach 6.9g</td>\n",
       "      <td>1</td>\n",
       "      <td>4.38</td>\n",
       "      <td>4.07</td>\n",
       "      <td>30</td>\n",
       "    </tr>\n",
       "    <tr>\n",
       "      <th>2</th>\n",
       "      <td>N85639</td>\n",
       "      <td>0301011R0</td>\n",
       "      <td>Salbutamol_Inha 100mcg (200 D) CFF</td>\n",
       "      <td>1</td>\n",
       "      <td>1.50</td>\n",
       "      <td>1.40</td>\n",
       "      <td>1</td>\n",
       "    </tr>\n",
       "    <tr>\n",
       "      <th>3</th>\n",
       "      <td>N85639</td>\n",
       "      <td>0304010G0</td>\n",
       "      <td>Chlorphenamine Mal_Oral Soln 2mg/5ml</td>\n",
       "      <td>1</td>\n",
       "      <td>2.62</td>\n",
       "      <td>2.44</td>\n",
       "      <td>150</td>\n",
       "    </tr>\n",
       "    <tr>\n",
       "      <th>4</th>\n",
       "      <td>N85639</td>\n",
       "      <td>0401020K0</td>\n",
       "      <td>Diazepam_Tab 2mg</td>\n",
       "      <td>1</td>\n",
       "      <td>0.16</td>\n",
       "      <td>0.26</td>\n",
       "      <td>6</td>\n",
       "    </tr>\n",
       "  </tbody>\n",
       "</table>\n",
       "</div>"
      ],
      "text/plain": [
       "  practice   bnf_code                              bnf_name  items   nic  \\\n",
       "0   N85639  0106020C0                 Bisacodyl_Tab E/C 5mg      1  0.39   \n",
       "1   N85639  0106040M0      Movicol Plain_Paed Pdr Sach 6.9g      1  4.38   \n",
       "2   N85639  0301011R0    Salbutamol_Inha 100mcg (200 D) CFF      1  1.50   \n",
       "3   N85639  0304010G0  Chlorphenamine Mal_Oral Soln 2mg/5ml      1  2.62   \n",
       "4   N85639  0401020K0                      Diazepam_Tab 2mg      1  0.16   \n",
       "\n",
       "   act_cost  quantity  \n",
       "0      0.47        12  \n",
       "1      4.07        30  \n",
       "2      1.40         1  \n",
       "3      2.44       150  \n",
       "4      0.26         6  "
      ]
     },
     "execution_count": 8,
     "metadata": {},
     "output_type": "execute_result"
    }
   ],
   "source": [
    "# load the 2017 data\n",
    "scripts = pd.read_csv('./dw-data/201701scripts_sample.csv.gz')\n",
    "scripts.head()"
   ]
  },
  {
   "cell_type": "code",
   "execution_count": 9,
   "metadata": {},
   "outputs": [
    {
     "data": {
      "text/html": [
       "<div>\n",
       "<style scoped>\n",
       "    .dataframe tbody tr th:only-of-type {\n",
       "        vertical-align: middle;\n",
       "    }\n",
       "\n",
       "    .dataframe tbody tr th {\n",
       "        vertical-align: top;\n",
       "    }\n",
       "\n",
       "    .dataframe thead th {\n",
       "        text-align: right;\n",
       "    }\n",
       "</style>\n",
       "<table border=\"1\" class=\"dataframe\">\n",
       "  <thead>\n",
       "    <tr style=\"text-align: right;\">\n",
       "      <th></th>\n",
       "      <th>code</th>\n",
       "      <th>name</th>\n",
       "      <th>addr_1</th>\n",
       "      <th>addr_2</th>\n",
       "      <th>borough</th>\n",
       "      <th>village</th>\n",
       "      <th>post_code</th>\n",
       "    </tr>\n",
       "  </thead>\n",
       "  <tbody>\n",
       "    <tr>\n",
       "      <th>0</th>\n",
       "      <td>A81001</td>\n",
       "      <td>THE DENSHAM SURGERY</td>\n",
       "      <td>THE HEALTH CENTRE</td>\n",
       "      <td>LAWSON STREET</td>\n",
       "      <td>STOCKTON ON TEES</td>\n",
       "      <td>CLEVELAND</td>\n",
       "      <td>TS18 1HU</td>\n",
       "    </tr>\n",
       "    <tr>\n",
       "      <th>1</th>\n",
       "      <td>A81002</td>\n",
       "      <td>QUEENS PARK MEDICAL CENTRE</td>\n",
       "      <td>QUEENS PARK MEDICAL CTR</td>\n",
       "      <td>FARRER STREET</td>\n",
       "      <td>STOCKTON ON TEES</td>\n",
       "      <td>CLEVELAND</td>\n",
       "      <td>TS18 2AW</td>\n",
       "    </tr>\n",
       "    <tr>\n",
       "      <th>2</th>\n",
       "      <td>A81003</td>\n",
       "      <td>VICTORIA MEDICAL PRACTICE</td>\n",
       "      <td>THE HEALTH CENTRE</td>\n",
       "      <td>VICTORIA ROAD</td>\n",
       "      <td>HARTLEPOOL</td>\n",
       "      <td>CLEVELAND</td>\n",
       "      <td>TS26 8DB</td>\n",
       "    </tr>\n",
       "    <tr>\n",
       "      <th>3</th>\n",
       "      <td>A81004</td>\n",
       "      <td>WOODLANDS ROAD SURGERY</td>\n",
       "      <td>6 WOODLANDS ROAD</td>\n",
       "      <td>NaN</td>\n",
       "      <td>MIDDLESBROUGH</td>\n",
       "      <td>CLEVELAND</td>\n",
       "      <td>TS1 3BE</td>\n",
       "    </tr>\n",
       "    <tr>\n",
       "      <th>4</th>\n",
       "      <td>A81005</td>\n",
       "      <td>SPRINGWOOD SURGERY</td>\n",
       "      <td>SPRINGWOOD SURGERY</td>\n",
       "      <td>RECTORY LANE</td>\n",
       "      <td>GUISBOROUGH</td>\n",
       "      <td>NaN</td>\n",
       "      <td>TS14 7DJ</td>\n",
       "    </tr>\n",
       "  </tbody>\n",
       "</table>\n",
       "</div>"
      ],
      "text/plain": [
       "     code                        name                   addr_1         addr_2  \\\n",
       "0  A81001         THE DENSHAM SURGERY        THE HEALTH CENTRE  LAWSON STREET   \n",
       "1  A81002  QUEENS PARK MEDICAL CENTRE  QUEENS PARK MEDICAL CTR  FARRER STREET   \n",
       "2  A81003   VICTORIA MEDICAL PRACTICE        THE HEALTH CENTRE  VICTORIA ROAD   \n",
       "3  A81004      WOODLANDS ROAD SURGERY         6 WOODLANDS ROAD            NaN   \n",
       "4  A81005          SPRINGWOOD SURGERY       SPRINGWOOD SURGERY   RECTORY LANE   \n",
       "\n",
       "            borough    village post_code  \n",
       "0  STOCKTON ON TEES  CLEVELAND  TS18 1HU  \n",
       "1  STOCKTON ON TEES  CLEVELAND  TS18 2AW  \n",
       "2        HARTLEPOOL  CLEVELAND  TS26 8DB  \n",
       "3     MIDDLESBROUGH  CLEVELAND   TS1 3BE  \n",
       "4       GUISBOROUGH        NaN  TS14 7DJ  "
      ]
     },
     "execution_count": 9,
     "metadata": {},
     "output_type": "execute_result"
    }
   ],
   "source": [
    "col_names=[ 'code', 'name', 'addr_1', 'addr_2', 'borough', 'village', 'post_code']\n",
    "practices = pd.read_csv('./dw-data/practices.csv.gz',names = col_names ,header = None)\n",
    "practices.head()"
   ]
  },
  {
   "cell_type": "code",
   "execution_count": 10,
   "metadata": {},
   "outputs": [
    {
     "data": {
      "text/html": [
       "<div>\n",
       "<style scoped>\n",
       "    .dataframe tbody tr th:only-of-type {\n",
       "        vertical-align: middle;\n",
       "    }\n",
       "\n",
       "    .dataframe tbody tr th {\n",
       "        vertical-align: top;\n",
       "    }\n",
       "\n",
       "    .dataframe thead th {\n",
       "        text-align: right;\n",
       "    }\n",
       "</style>\n",
       "<table border=\"1\" class=\"dataframe\">\n",
       "  <thead>\n",
       "    <tr style=\"text-align: right;\">\n",
       "      <th></th>\n",
       "      <th>CHEM SUB</th>\n",
       "      <th>NAME</th>\n",
       "    </tr>\n",
       "  </thead>\n",
       "  <tbody>\n",
       "    <tr>\n",
       "      <th>0</th>\n",
       "      <td>0101010A0</td>\n",
       "      <td>Alexitol Sodium</td>\n",
       "    </tr>\n",
       "    <tr>\n",
       "      <th>1</th>\n",
       "      <td>0101010B0</td>\n",
       "      <td>Almasilate</td>\n",
       "    </tr>\n",
       "    <tr>\n",
       "      <th>2</th>\n",
       "      <td>0101010C0</td>\n",
       "      <td>Aluminium Hydroxide</td>\n",
       "    </tr>\n",
       "    <tr>\n",
       "      <th>3</th>\n",
       "      <td>0101010D0</td>\n",
       "      <td>Aluminium Hydroxide With Magnesium</td>\n",
       "    </tr>\n",
       "    <tr>\n",
       "      <th>4</th>\n",
       "      <td>0101010E0</td>\n",
       "      <td>Hydrotalcite</td>\n",
       "    </tr>\n",
       "  </tbody>\n",
       "</table>\n",
       "</div>"
      ],
      "text/plain": [
       "    CHEM SUB                                NAME\n",
       "0  0101010A0                     Alexitol Sodium\n",
       "1  0101010B0                          Almasilate\n",
       "2  0101010C0                 Aluminium Hydroxide\n",
       "3  0101010D0  Aluminium Hydroxide With Magnesium\n",
       "4  0101010E0                        Hydrotalcite"
      ]
     },
     "execution_count": 10,
     "metadata": {},
     "output_type": "execute_result"
    }
   ],
   "source": [
    "chem = pd.read_csv('./dw-data/chem.csv.gz')\n",
    "chem.head()"
   ]
  },
  {
   "cell_type": "markdown",
   "metadata": {},
   "source": [
    "Now that we've loaded in the data, let's first replicate our results from the `PW` miniproject. Note that we are now working with a larger data set so the answers will be different than in the `PW` miniproject even if the analysis is the same."
   ]
  },
  {
   "cell_type": "markdown",
   "metadata": {},
   "source": [
    "## Question 1: summary_statistics\n",
    "\n",
    "In the `PW` miniproject we first calculated the total, mean, standard deviation, and quartile statistics of the `'items'`, `'quantity'`', `'nic'`, and `'act_cost'` fields. To do this we had to write some functions to calculate the statistics and apply the functions to our data structure. The DataFrame has a `describe` method that will calculate most (not all) of these things for us.\n",
    "\n",
    "Submit the summary statistics to the grader as a list of tuples: [('act_cost', (total, mean, std, q25, median, q75)), ...]"
   ]
  },
  {
   "cell_type": "code",
   "execution_count": 11,
   "metadata": {},
   "outputs": [
    {
     "data": {
      "text/html": [
       "<div>\n",
       "<style scoped>\n",
       "    .dataframe tbody tr th:only-of-type {\n",
       "        vertical-align: middle;\n",
       "    }\n",
       "\n",
       "    .dataframe tbody tr th {\n",
       "        vertical-align: top;\n",
       "    }\n",
       "\n",
       "    .dataframe thead th {\n",
       "        text-align: right;\n",
       "    }\n",
       "</style>\n",
       "<table border=\"1\" class=\"dataframe\">\n",
       "  <thead>\n",
       "    <tr style=\"text-align: right;\">\n",
       "      <th></th>\n",
       "      <th>items</th>\n",
       "      <th>nic</th>\n",
       "      <th>act_cost</th>\n",
       "      <th>quantity</th>\n",
       "    </tr>\n",
       "  </thead>\n",
       "  <tbody>\n",
       "    <tr>\n",
       "      <th>mean</th>\n",
       "      <td>9.133136</td>\n",
       "      <td>73.058915</td>\n",
       "      <td>67.986613</td>\n",
       "      <td>741.329835</td>\n",
       "    </tr>\n",
       "    <tr>\n",
       "      <th>std</th>\n",
       "      <td>29.204198</td>\n",
       "      <td>188.070257</td>\n",
       "      <td>174.401703</td>\n",
       "      <td>3665.426958</td>\n",
       "    </tr>\n",
       "    <tr>\n",
       "      <th>25%</th>\n",
       "      <td>1.000000</td>\n",
       "      <td>7.800000</td>\n",
       "      <td>7.330000</td>\n",
       "      <td>28.000000</td>\n",
       "    </tr>\n",
       "    <tr>\n",
       "      <th>50%</th>\n",
       "      <td>2.000000</td>\n",
       "      <td>22.640000</td>\n",
       "      <td>21.220000</td>\n",
       "      <td>100.000000</td>\n",
       "    </tr>\n",
       "    <tr>\n",
       "      <th>75%</th>\n",
       "      <td>6.000000</td>\n",
       "      <td>65.000000</td>\n",
       "      <td>60.670000</td>\n",
       "      <td>350.000000</td>\n",
       "    </tr>\n",
       "  </tbody>\n",
       "</table>\n",
       "</div>"
      ],
      "text/plain": [
       "          items         nic    act_cost     quantity\n",
       "mean   9.133136   73.058915   67.986613   741.329835\n",
       "std   29.204198  188.070257  174.401703  3665.426958\n",
       "25%    1.000000    7.800000    7.330000    28.000000\n",
       "50%    2.000000   22.640000   21.220000   100.000000\n",
       "75%    6.000000   65.000000   60.670000   350.000000"
      ]
     },
     "execution_count": 11,
     "metadata": {},
     "output_type": "execute_result"
    }
   ],
   "source": [
    "scripts_summary = scripts.describe()\n",
    "scripts_summary = scripts_summary.drop('min')\n",
    "scripts_summary = scripts_summary.drop('max')\n",
    "scripts_summary = scripts_summary.drop('count')\n",
    "scripts_summary"
   ]
  },
  {
   "cell_type": "code",
   "execution_count": 12,
   "metadata": {},
   "outputs": [],
   "source": [
    "items = tuple([sum(scripts['items'])] + list(scripts_summary['items']))\n",
    "quantity = tuple([sum(scripts['quantity'])] + list(scripts_summary['quantity']))\n",
    "nic = tuple([sum(scripts['nic'])] + list(scripts_summary['nic']))\n",
    "act_cost = tuple([sum(scripts['act_cost'])] + list(scripts_summary['act_cost']))"
   ]
  },
  {
   "cell_type": "code",
   "execution_count": 13,
   "metadata": {},
   "outputs": [],
   "source": [
    "summary_stats = [('items', items), ('quantity', quantity), ('nic', nic), ('act_cost', act_cost)]"
   ]
  },
  {
   "cell_type": "code",
   "execution_count": 14,
   "metadata": {},
   "outputs": [
    {
     "name": "stdout",
     "output_type": "stream",
     "text": [
      "==================\n",
      "Your score:  1.0\n",
      "==================\n"
     ]
    }
   ],
   "source": [
    "grader.score.dw__summary_statistics(summary_stats)"
   ]
  },
  {
   "cell_type": "markdown",
   "metadata": {},
   "source": [
    "## Question 2: most_common_item\n",
    "\n",
    "We can also easily compute summary statistics on groups within the data. In the `pw` miniproject we had to explicitly construct the groups based on the values of a particular field. Pandas will handle that for us via the `groupby` method. This process is [detailed in the Pandas documentation](https://pandas.pydata.org/pandas-docs/stable/groupby.html).\n",
    "\n",
    "Use `groupby` to calculate the total number of items dispensed for each `'bnf_name'`. Find the item with the highest total and return the result as `[(bnf_name, total)]`."
   ]
  },
  {
   "cell_type": "code",
   "execution_count": 15,
   "metadata": {},
   "outputs": [
    {
     "data": {
      "text/plain": [
       "218583"
      ]
     },
     "execution_count": 15,
     "metadata": {},
     "output_type": "execute_result"
    }
   ],
   "source": [
    "items_by_bnfName = scripts.groupby('bnf_name')['items'].sum()\n",
    "items_by_bnfName.max()"
   ]
  },
  {
   "cell_type": "code",
   "execution_count": 16,
   "metadata": {},
   "outputs": [],
   "source": [
    "most_common_item = [(items_by_bnfName.idxmax(), items_by_bnfName.max())]"
   ]
  },
  {
   "cell_type": "code",
   "execution_count": 17,
   "metadata": {},
   "outputs": [
    {
     "name": "stdout",
     "output_type": "stream",
     "text": [
      "==================\n",
      "Your score:  1.0\n",
      "==================\n"
     ]
    }
   ],
   "source": [
    "grader.score.dw__most_common_item(most_common_item)"
   ]
  },
  {
   "cell_type": "markdown",
   "metadata": {},
   "source": [
    "## Question 3: items_by_region\n",
    "\n",
    "Now let's find the most common item by post code. The post code information is in the `practices` DataFrame, and we'll need to `merge` it into the `scripts` DataFrame. Pandas provides [extensive documentation](https://pandas.pydata.org/pandas-docs/stable/merging.html) with diagrammed examples on different methods and approaches for joining data. The `merge` method is only one of many possible options.\n",
    "\n",
    "Return your results as a list of tuples `(post code, item name, amount dispensed as % of total)`. Sort your results ascending alphabetically by post code and take only results from the first 100 post codes.\n",
    "\n",
    "**NOTE:** Some practices have multiple postal codes associated with them. Use the alphabetically first postal code. Note some postal codes may have multiple `'bnf_name'` with the same prescription rate for the maximum. In this case, take the alphabetically first `'bnf_name'` (as in the PW miniproject)."
   ]
  },
  {
   "cell_type": "code",
   "execution_count": 18,
   "metadata": {},
   "outputs": [
    {
     "name": "stdout",
     "output_type": "stream",
     "text": [
      "(973193, 7)\n",
      "practice      856\n",
      "bnf_code     1975\n",
      "bnf_name    13471\n",
      "items         743\n",
      "nic         44989\n",
      "act_cost    54048\n",
      "quantity    12361\n",
      "dtype: int64\n"
     ]
    },
    {
     "data": {
      "text/html": [
       "<div>\n",
       "<style scoped>\n",
       "    .dataframe tbody tr th:only-of-type {\n",
       "        vertical-align: middle;\n",
       "    }\n",
       "\n",
       "    .dataframe tbody tr th {\n",
       "        vertical-align: top;\n",
       "    }\n",
       "\n",
       "    .dataframe thead th {\n",
       "        text-align: right;\n",
       "    }\n",
       "</style>\n",
       "<table border=\"1\" class=\"dataframe\">\n",
       "  <thead>\n",
       "    <tr style=\"text-align: right;\">\n",
       "      <th></th>\n",
       "      <th>practice</th>\n",
       "      <th>bnf_code</th>\n",
       "      <th>bnf_name</th>\n",
       "      <th>items</th>\n",
       "      <th>nic</th>\n",
       "      <th>act_cost</th>\n",
       "      <th>quantity</th>\n",
       "    </tr>\n",
       "  </thead>\n",
       "  <tbody>\n",
       "    <tr>\n",
       "      <th>973183</th>\n",
       "      <td>H81615</td>\n",
       "      <td>238510085</td>\n",
       "      <td>Coloplast_Brava Mouldable Rings 48mm x 2</td>\n",
       "      <td>1</td>\n",
       "      <td>58.39</td>\n",
       "      <td>54.05</td>\n",
       "      <td>30</td>\n",
       "    </tr>\n",
       "    <tr>\n",
       "      <th>973184</th>\n",
       "      <td>H81615</td>\n",
       "      <td>239401097</td>\n",
       "      <td>Hollister_Conform 2 Flat Barrier +Adh 45</td>\n",
       "      <td>1</td>\n",
       "      <td>98.28</td>\n",
       "      <td>90.98</td>\n",
       "      <td>30</td>\n",
       "    </tr>\n",
       "    <tr>\n",
       "      <th>973185</th>\n",
       "      <td>H81615</td>\n",
       "      <td>239407096</td>\n",
       "      <td>Dansac_Nova 2 Flng 43mm P/Cut 30mm</td>\n",
       "      <td>1</td>\n",
       "      <td>47.46</td>\n",
       "      <td>43.94</td>\n",
       "      <td>15</td>\n",
       "    </tr>\n",
       "    <tr>\n",
       "      <th>973186</th>\n",
       "      <td>H81615</td>\n",
       "      <td>239407098</td>\n",
       "      <td>Dansac_NovaLife 2 Open Pouch Maxi Opqe 4</td>\n",
       "      <td>1</td>\n",
       "      <td>212.04</td>\n",
       "      <td>196.30</td>\n",
       "      <td>120</td>\n",
       "    </tr>\n",
       "    <tr>\n",
       "      <th>973187</th>\n",
       "      <td>H81615</td>\n",
       "      <td>239410093</td>\n",
       "      <td>Coloplast_SenSura Flex Drnbl Bag Maxi Op</td>\n",
       "      <td>2</td>\n",
       "      <td>105.02</td>\n",
       "      <td>97.22</td>\n",
       "      <td>60</td>\n",
       "    </tr>\n",
       "    <tr>\n",
       "      <th>973188</th>\n",
       "      <td>H81615</td>\n",
       "      <td>239410100</td>\n",
       "      <td>Coloplast_SenSura Mio Flex B/Plt 50mm C/</td>\n",
       "      <td>1</td>\n",
       "      <td>78.92</td>\n",
       "      <td>73.06</td>\n",
       "      <td>20</td>\n",
       "    </tr>\n",
       "    <tr>\n",
       "      <th>973189</th>\n",
       "      <td>H81615</td>\n",
       "      <td>239410100</td>\n",
       "      <td>Coloplast_SenSura Mio Flex Clsd Bag Mini</td>\n",
       "      <td>1</td>\n",
       "      <td>106.36</td>\n",
       "      <td>98.46</td>\n",
       "      <td>60</td>\n",
       "    </tr>\n",
       "    <tr>\n",
       "      <th>973190</th>\n",
       "      <td>H81615</td>\n",
       "      <td>239410100</td>\n",
       "      <td>Coloplast_SenSura Mio Flex Clsd Bag Midi</td>\n",
       "      <td>1</td>\n",
       "      <td>159.54</td>\n",
       "      <td>147.69</td>\n",
       "      <td>90</td>\n",
       "    </tr>\n",
       "    <tr>\n",
       "      <th>973191</th>\n",
       "      <td>H81615</td>\n",
       "      <td>239607096</td>\n",
       "      <td>Dansac_Nova 1 Convex Urost Pouch Clr C/F</td>\n",
       "      <td>2</td>\n",
       "      <td>329.76</td>\n",
       "      <td>305.28</td>\n",
       "      <td>60</td>\n",
       "    </tr>\n",
       "    <tr>\n",
       "      <th>973192</th>\n",
       "      <td>H81615</td>\n",
       "      <td>239610096</td>\n",
       "      <td>Coloplast_SenSura Mio Urost Bag Maxi Tra</td>\n",
       "      <td>1</td>\n",
       "      <td>182.48</td>\n",
       "      <td>168.93</td>\n",
       "      <td>30</td>\n",
       "    </tr>\n",
       "  </tbody>\n",
       "</table>\n",
       "</div>"
      ],
      "text/plain": [
       "       practice   bnf_code                                  bnf_name  items  \\\n",
       "973183   H81615  238510085  Coloplast_Brava Mouldable Rings 48mm x 2      1   \n",
       "973184   H81615  239401097  Hollister_Conform 2 Flat Barrier +Adh 45      1   \n",
       "973185   H81615  239407096        Dansac_Nova 2 Flng 43mm P/Cut 30mm      1   \n",
       "973186   H81615  239407098  Dansac_NovaLife 2 Open Pouch Maxi Opqe 4      1   \n",
       "973187   H81615  239410093  Coloplast_SenSura Flex Drnbl Bag Maxi Op      2   \n",
       "973188   H81615  239410100  Coloplast_SenSura Mio Flex B/Plt 50mm C/      1   \n",
       "973189   H81615  239410100  Coloplast_SenSura Mio Flex Clsd Bag Mini      1   \n",
       "973190   H81615  239410100  Coloplast_SenSura Mio Flex Clsd Bag Midi      1   \n",
       "973191   H81615  239607096  Dansac_Nova 1 Convex Urost Pouch Clr C/F      2   \n",
       "973192   H81615  239610096  Coloplast_SenSura Mio Urost Bag Maxi Tra      1   \n",
       "\n",
       "           nic  act_cost  quantity  \n",
       "973183   58.39     54.05        30  \n",
       "973184   98.28     90.98        30  \n",
       "973185   47.46     43.94        15  \n",
       "973186  212.04    196.30       120  \n",
       "973187  105.02     97.22        60  \n",
       "973188   78.92     73.06        20  \n",
       "973189  106.36     98.46        60  \n",
       "973190  159.54    147.69        90  \n",
       "973191  329.76    305.28        60  \n",
       "973192  182.48    168.93        30  "
      ]
     },
     "execution_count": 18,
     "metadata": {},
     "output_type": "execute_result"
    }
   ],
   "source": [
    "print(scripts.shape)\n",
    "print(scripts.nunique())\n",
    "scripts.tail(10)"
   ]
  },
  {
   "cell_type": "code",
   "execution_count": 19,
   "metadata": {},
   "outputs": [
    {
     "name": "stdout",
     "output_type": "stream",
     "text": [
      "(12020, 7)\n",
      "code         10843\n",
      "name         10703\n",
      "addr_1        8898\n",
      "addr_2        8110\n",
      "borough       2721\n",
      "village        458\n",
      "post_code     8306\n",
      "dtype: int64\n"
     ]
    },
    {
     "data": {
      "text/html": [
       "<div>\n",
       "<style scoped>\n",
       "    .dataframe tbody tr th:only-of-type {\n",
       "        vertical-align: middle;\n",
       "    }\n",
       "\n",
       "    .dataframe tbody tr th {\n",
       "        vertical-align: top;\n",
       "    }\n",
       "\n",
       "    .dataframe thead th {\n",
       "        text-align: right;\n",
       "    }\n",
       "</style>\n",
       "<table border=\"1\" class=\"dataframe\">\n",
       "  <thead>\n",
       "    <tr style=\"text-align: right;\">\n",
       "      <th></th>\n",
       "      <th>code</th>\n",
       "      <th>name</th>\n",
       "      <th>addr_1</th>\n",
       "      <th>addr_2</th>\n",
       "      <th>borough</th>\n",
       "      <th>village</th>\n",
       "      <th>post_code</th>\n",
       "    </tr>\n",
       "  </thead>\n",
       "  <tbody>\n",
       "    <tr>\n",
       "      <th>0</th>\n",
       "      <td>A81001</td>\n",
       "      <td>THE DENSHAM SURGERY</td>\n",
       "      <td>THE HEALTH CENTRE</td>\n",
       "      <td>LAWSON STREET</td>\n",
       "      <td>STOCKTON ON TEES</td>\n",
       "      <td>CLEVELAND</td>\n",
       "      <td>TS18 1HU</td>\n",
       "    </tr>\n",
       "    <tr>\n",
       "      <th>1</th>\n",
       "      <td>A81002</td>\n",
       "      <td>QUEENS PARK MEDICAL CENTRE</td>\n",
       "      <td>QUEENS PARK MEDICAL CTR</td>\n",
       "      <td>FARRER STREET</td>\n",
       "      <td>STOCKTON ON TEES</td>\n",
       "      <td>CLEVELAND</td>\n",
       "      <td>TS18 2AW</td>\n",
       "    </tr>\n",
       "    <tr>\n",
       "      <th>2</th>\n",
       "      <td>A81003</td>\n",
       "      <td>VICTORIA MEDICAL PRACTICE</td>\n",
       "      <td>THE HEALTH CENTRE</td>\n",
       "      <td>VICTORIA ROAD</td>\n",
       "      <td>HARTLEPOOL</td>\n",
       "      <td>CLEVELAND</td>\n",
       "      <td>TS26 8DB</td>\n",
       "    </tr>\n",
       "    <tr>\n",
       "      <th>3</th>\n",
       "      <td>A81004</td>\n",
       "      <td>WOODLANDS ROAD SURGERY</td>\n",
       "      <td>6 WOODLANDS ROAD</td>\n",
       "      <td>NaN</td>\n",
       "      <td>MIDDLESBROUGH</td>\n",
       "      <td>CLEVELAND</td>\n",
       "      <td>TS1 3BE</td>\n",
       "    </tr>\n",
       "    <tr>\n",
       "      <th>4</th>\n",
       "      <td>A81005</td>\n",
       "      <td>SPRINGWOOD SURGERY</td>\n",
       "      <td>SPRINGWOOD SURGERY</td>\n",
       "      <td>RECTORY LANE</td>\n",
       "      <td>GUISBOROUGH</td>\n",
       "      <td>NaN</td>\n",
       "      <td>TS14 7DJ</td>\n",
       "    </tr>\n",
       "  </tbody>\n",
       "</table>\n",
       "</div>"
      ],
      "text/plain": [
       "     code                        name                   addr_1         addr_2  \\\n",
       "0  A81001         THE DENSHAM SURGERY        THE HEALTH CENTRE  LAWSON STREET   \n",
       "1  A81002  QUEENS PARK MEDICAL CENTRE  QUEENS PARK MEDICAL CTR  FARRER STREET   \n",
       "2  A81003   VICTORIA MEDICAL PRACTICE        THE HEALTH CENTRE  VICTORIA ROAD   \n",
       "3  A81004      WOODLANDS ROAD SURGERY         6 WOODLANDS ROAD            NaN   \n",
       "4  A81005          SPRINGWOOD SURGERY       SPRINGWOOD SURGERY   RECTORY LANE   \n",
       "\n",
       "            borough    village post_code  \n",
       "0  STOCKTON ON TEES  CLEVELAND  TS18 1HU  \n",
       "1  STOCKTON ON TEES  CLEVELAND  TS18 2AW  \n",
       "2        HARTLEPOOL  CLEVELAND  TS26 8DB  \n",
       "3     MIDDLESBROUGH  CLEVELAND   TS1 3BE  \n",
       "4       GUISBOROUGH        NaN  TS14 7DJ  "
      ]
     },
     "execution_count": 19,
     "metadata": {},
     "output_type": "execute_result"
    }
   ],
   "source": [
    "print(practices.shape)\n",
    "print(practices.nunique())\n",
    "practices.head()"
   ]
  },
  {
   "cell_type": "code",
   "execution_count": 20,
   "metadata": {},
   "outputs": [
    {
     "name": "stdout",
     "output_type": "stream",
     "text": [
      "code         10843\n",
      "post_code     8137\n",
      "dtype: int64\n"
     ]
    },
    {
     "data": {
      "text/html": [
       "<div>\n",
       "<style scoped>\n",
       "    .dataframe tbody tr th:only-of-type {\n",
       "        vertical-align: middle;\n",
       "    }\n",
       "\n",
       "    .dataframe tbody tr th {\n",
       "        vertical-align: top;\n",
       "    }\n",
       "\n",
       "    .dataframe thead th {\n",
       "        text-align: right;\n",
       "    }\n",
       "</style>\n",
       "<table border=\"1\" class=\"dataframe\">\n",
       "  <thead>\n",
       "    <tr style=\"text-align: right;\">\n",
       "      <th></th>\n",
       "      <th>code</th>\n",
       "      <th>post_code</th>\n",
       "    </tr>\n",
       "  </thead>\n",
       "  <tbody>\n",
       "    <tr>\n",
       "      <th>0</th>\n",
       "      <td>A81001</td>\n",
       "      <td>TS18 1HU</td>\n",
       "    </tr>\n",
       "    <tr>\n",
       "      <th>1</th>\n",
       "      <td>A81002</td>\n",
       "      <td>TS18 2AW</td>\n",
       "    </tr>\n",
       "    <tr>\n",
       "      <th>2</th>\n",
       "      <td>A81003</td>\n",
       "      <td>TS25 1QU</td>\n",
       "    </tr>\n",
       "    <tr>\n",
       "      <th>3</th>\n",
       "      <td>A81004</td>\n",
       "      <td>TS1 3BE</td>\n",
       "    </tr>\n",
       "    <tr>\n",
       "      <th>4</th>\n",
       "      <td>A81005</td>\n",
       "      <td>TS14 7DJ</td>\n",
       "    </tr>\n",
       "  </tbody>\n",
       "</table>\n",
       "</div>"
      ],
      "text/plain": [
       "     code post_code\n",
       "0  A81001  TS18 1HU\n",
       "1  A81002  TS18 2AW\n",
       "2  A81003  TS25 1QU\n",
       "3  A81004   TS1 3BE\n",
       "4  A81005  TS14 7DJ"
      ]
     },
     "execution_count": 20,
     "metadata": {},
     "output_type": "execute_result"
    }
   ],
   "source": [
    "practices_final = practices.groupby('code')['post_code'].min()\n",
    "practices_final = pd.DataFrame(practices_final)\n",
    "practices_final.reset_index(level=0,inplace=True)\n",
    "print(practices_final.nunique())\n",
    "practices_final.head()"
   ]
  },
  {
   "cell_type": "code",
   "execution_count": 21,
   "metadata": {},
   "outputs": [
    {
     "name": "stdout",
     "output_type": "stream",
     "text": [
      "(973193, 9)\n",
      "practice       856\n",
      "bnf_code      1975\n",
      "bnf_name     13471\n",
      "items          743\n",
      "nic          44989\n",
      "act_cost     54048\n",
      "quantity     12361\n",
      "code           856\n",
      "post_code      259\n",
      "dtype: int64\n"
     ]
    },
    {
     "data": {
      "text/html": [
       "<div>\n",
       "<style scoped>\n",
       "    .dataframe tbody tr th:only-of-type {\n",
       "        vertical-align: middle;\n",
       "    }\n",
       "\n",
       "    .dataframe tbody tr th {\n",
       "        vertical-align: top;\n",
       "    }\n",
       "\n",
       "    .dataframe thead th {\n",
       "        text-align: right;\n",
       "    }\n",
       "</style>\n",
       "<table border=\"1\" class=\"dataframe\">\n",
       "  <thead>\n",
       "    <tr style=\"text-align: right;\">\n",
       "      <th></th>\n",
       "      <th>practice</th>\n",
       "      <th>bnf_code</th>\n",
       "      <th>bnf_name</th>\n",
       "      <th>items</th>\n",
       "      <th>nic</th>\n",
       "      <th>act_cost</th>\n",
       "      <th>quantity</th>\n",
       "      <th>code</th>\n",
       "      <th>post_code</th>\n",
       "    </tr>\n",
       "  </thead>\n",
       "  <tbody>\n",
       "    <tr>\n",
       "      <th>0</th>\n",
       "      <td>N85639</td>\n",
       "      <td>0106020C0</td>\n",
       "      <td>Bisacodyl_Tab E/C 5mg</td>\n",
       "      <td>1</td>\n",
       "      <td>0.39</td>\n",
       "      <td>0.47</td>\n",
       "      <td>12</td>\n",
       "      <td>N85639</td>\n",
       "      <td>CH44 5UF</td>\n",
       "    </tr>\n",
       "    <tr>\n",
       "      <th>1</th>\n",
       "      <td>N85639</td>\n",
       "      <td>0106040M0</td>\n",
       "      <td>Movicol Plain_Paed Pdr Sach 6.9g</td>\n",
       "      <td>1</td>\n",
       "      <td>4.38</td>\n",
       "      <td>4.07</td>\n",
       "      <td>30</td>\n",
       "      <td>N85639</td>\n",
       "      <td>CH44 5UF</td>\n",
       "    </tr>\n",
       "    <tr>\n",
       "      <th>2</th>\n",
       "      <td>N85639</td>\n",
       "      <td>0301011R0</td>\n",
       "      <td>Salbutamol_Inha 100mcg (200 D) CFF</td>\n",
       "      <td>1</td>\n",
       "      <td>1.50</td>\n",
       "      <td>1.40</td>\n",
       "      <td>1</td>\n",
       "      <td>N85639</td>\n",
       "      <td>CH44 5UF</td>\n",
       "    </tr>\n",
       "    <tr>\n",
       "      <th>3</th>\n",
       "      <td>N85639</td>\n",
       "      <td>0304010G0</td>\n",
       "      <td>Chlorphenamine Mal_Oral Soln 2mg/5ml</td>\n",
       "      <td>1</td>\n",
       "      <td>2.62</td>\n",
       "      <td>2.44</td>\n",
       "      <td>150</td>\n",
       "      <td>N85639</td>\n",
       "      <td>CH44 5UF</td>\n",
       "    </tr>\n",
       "    <tr>\n",
       "      <th>4</th>\n",
       "      <td>N85639</td>\n",
       "      <td>0401020K0</td>\n",
       "      <td>Diazepam_Tab 2mg</td>\n",
       "      <td>1</td>\n",
       "      <td>0.16</td>\n",
       "      <td>0.26</td>\n",
       "      <td>6</td>\n",
       "      <td>N85639</td>\n",
       "      <td>CH44 5UF</td>\n",
       "    </tr>\n",
       "  </tbody>\n",
       "</table>\n",
       "</div>"
      ],
      "text/plain": [
       "  practice   bnf_code                              bnf_name  items   nic  \\\n",
       "0   N85639  0106020C0                 Bisacodyl_Tab E/C 5mg      1  0.39   \n",
       "1   N85639  0106040M0      Movicol Plain_Paed Pdr Sach 6.9g      1  4.38   \n",
       "2   N85639  0301011R0    Salbutamol_Inha 100mcg (200 D) CFF      1  1.50   \n",
       "3   N85639  0304010G0  Chlorphenamine Mal_Oral Soln 2mg/5ml      1  2.62   \n",
       "4   N85639  0401020K0                      Diazepam_Tab 2mg      1  0.16   \n",
       "\n",
       "   act_cost  quantity    code post_code  \n",
       "0      0.47        12  N85639  CH44 5UF  \n",
       "1      4.07        30  N85639  CH44 5UF  \n",
       "2      1.40         1  N85639  CH44 5UF  \n",
       "3      2.44       150  N85639  CH44 5UF  \n",
       "4      0.26         6  N85639  CH44 5UF  "
      ]
     },
     "execution_count": 21,
     "metadata": {},
     "output_type": "execute_result"
    }
   ],
   "source": [
    "scripts_practices = pd.merge(scripts,practices_final, left_on='practice',right_on='code', how='inner')\n",
    "print(scripts_practices.shape)\n",
    "print(scripts_practices.nunique())\n",
    "\n",
    "scripts_practices.head()"
   ]
  },
  {
   "cell_type": "code",
   "execution_count": 22,
   "metadata": {},
   "outputs": [],
   "source": [
    "# scripts_practices = scripts_practices.drop(['addr_1','addr_2','borough','village'],axis=1)"
   ]
  },
  {
   "cell_type": "code",
   "execution_count": 23,
   "metadata": {},
   "outputs": [
    {
     "data": {
      "text/html": [
       "<div>\n",
       "<style scoped>\n",
       "    .dataframe tbody tr th:only-of-type {\n",
       "        vertical-align: middle;\n",
       "    }\n",
       "\n",
       "    .dataframe tbody tr th {\n",
       "        vertical-align: top;\n",
       "    }\n",
       "\n",
       "    .dataframe thead th {\n",
       "        text-align: right;\n",
       "    }\n",
       "</style>\n",
       "<table border=\"1\" class=\"dataframe\">\n",
       "  <thead>\n",
       "    <tr style=\"text-align: right;\">\n",
       "      <th></th>\n",
       "      <th>practice</th>\n",
       "      <th>bnf_code</th>\n",
       "      <th>bnf_name</th>\n",
       "      <th>items</th>\n",
       "      <th>nic</th>\n",
       "      <th>act_cost</th>\n",
       "      <th>quantity</th>\n",
       "      <th>code</th>\n",
       "      <th>post_code</th>\n",
       "    </tr>\n",
       "  </thead>\n",
       "  <tbody>\n",
       "    <tr>\n",
       "      <th>0</th>\n",
       "      <td>N85639</td>\n",
       "      <td>0106020C0</td>\n",
       "      <td>Bisacodyl_Tab E/C 5mg</td>\n",
       "      <td>1</td>\n",
       "      <td>0.39</td>\n",
       "      <td>0.47</td>\n",
       "      <td>12</td>\n",
       "      <td>N85639</td>\n",
       "      <td>CH44 5UF</td>\n",
       "    </tr>\n",
       "    <tr>\n",
       "      <th>1</th>\n",
       "      <td>N85639</td>\n",
       "      <td>0106040M0</td>\n",
       "      <td>Movicol Plain_Paed Pdr Sach 6.9g</td>\n",
       "      <td>1</td>\n",
       "      <td>4.38</td>\n",
       "      <td>4.07</td>\n",
       "      <td>30</td>\n",
       "      <td>N85639</td>\n",
       "      <td>CH44 5UF</td>\n",
       "    </tr>\n",
       "    <tr>\n",
       "      <th>2</th>\n",
       "      <td>N85639</td>\n",
       "      <td>0301011R0</td>\n",
       "      <td>Salbutamol_Inha 100mcg (200 D) CFF</td>\n",
       "      <td>1</td>\n",
       "      <td>1.50</td>\n",
       "      <td>1.40</td>\n",
       "      <td>1</td>\n",
       "      <td>N85639</td>\n",
       "      <td>CH44 5UF</td>\n",
       "    </tr>\n",
       "    <tr>\n",
       "      <th>3</th>\n",
       "      <td>N85639</td>\n",
       "      <td>0304010G0</td>\n",
       "      <td>Chlorphenamine Mal_Oral Soln 2mg/5ml</td>\n",
       "      <td>1</td>\n",
       "      <td>2.62</td>\n",
       "      <td>2.44</td>\n",
       "      <td>150</td>\n",
       "      <td>N85639</td>\n",
       "      <td>CH44 5UF</td>\n",
       "    </tr>\n",
       "    <tr>\n",
       "      <th>4</th>\n",
       "      <td>N85639</td>\n",
       "      <td>0401020K0</td>\n",
       "      <td>Diazepam_Tab 2mg</td>\n",
       "      <td>1</td>\n",
       "      <td>0.16</td>\n",
       "      <td>0.26</td>\n",
       "      <td>6</td>\n",
       "      <td>N85639</td>\n",
       "      <td>CH44 5UF</td>\n",
       "    </tr>\n",
       "    <tr>\n",
       "      <th>5</th>\n",
       "      <td>N85639</td>\n",
       "      <td>0406000T0</td>\n",
       "      <td>Prochlpzine Mal_Tab 5mg</td>\n",
       "      <td>1</td>\n",
       "      <td>0.97</td>\n",
       "      <td>0.91</td>\n",
       "      <td>28</td>\n",
       "      <td>N85639</td>\n",
       "      <td>CH44 5UF</td>\n",
       "    </tr>\n",
       "    <tr>\n",
       "      <th>6</th>\n",
       "      <td>N85639</td>\n",
       "      <td>0407010F0</td>\n",
       "      <td>Co-Codamol_Cap 30mg/500mg</td>\n",
       "      <td>1</td>\n",
       "      <td>0.84</td>\n",
       "      <td>0.89</td>\n",
       "      <td>24</td>\n",
       "      <td>N85639</td>\n",
       "      <td>CH44 5UF</td>\n",
       "    </tr>\n",
       "    <tr>\n",
       "      <th>7</th>\n",
       "      <td>N85639</td>\n",
       "      <td>0407010F0</td>\n",
       "      <td>Zapain_Tab 30mg/500mg</td>\n",
       "      <td>1</td>\n",
       "      <td>3.03</td>\n",
       "      <td>2.82</td>\n",
       "      <td>100</td>\n",
       "      <td>N85639</td>\n",
       "      <td>CH44 5UF</td>\n",
       "    </tr>\n",
       "    <tr>\n",
       "      <th>8</th>\n",
       "      <td>N85639</td>\n",
       "      <td>0407010H0</td>\n",
       "      <td>Paracet_Oral Susp Paed 120mg/5ml</td>\n",
       "      <td>1</td>\n",
       "      <td>0.62</td>\n",
       "      <td>0.69</td>\n",
       "      <td>100</td>\n",
       "      <td>N85639</td>\n",
       "      <td>CH44 5UF</td>\n",
       "    </tr>\n",
       "    <tr>\n",
       "      <th>9</th>\n",
       "      <td>N85639</td>\n",
       "      <td>0501011P0</td>\n",
       "      <td>Phenoxymethylpenicillin Pot_Tab 250mg</td>\n",
       "      <td>2</td>\n",
       "      <td>5.94</td>\n",
       "      <td>5.72</td>\n",
       "      <td>160</td>\n",
       "      <td>N85639</td>\n",
       "      <td>CH44 5UF</td>\n",
       "    </tr>\n",
       "  </tbody>\n",
       "</table>\n",
       "</div>"
      ],
      "text/plain": [
       "  practice   bnf_code                               bnf_name  items   nic  \\\n",
       "0   N85639  0106020C0                  Bisacodyl_Tab E/C 5mg      1  0.39   \n",
       "1   N85639  0106040M0       Movicol Plain_Paed Pdr Sach 6.9g      1  4.38   \n",
       "2   N85639  0301011R0     Salbutamol_Inha 100mcg (200 D) CFF      1  1.50   \n",
       "3   N85639  0304010G0   Chlorphenamine Mal_Oral Soln 2mg/5ml      1  2.62   \n",
       "4   N85639  0401020K0                       Diazepam_Tab 2mg      1  0.16   \n",
       "5   N85639  0406000T0                Prochlpzine Mal_Tab 5mg      1  0.97   \n",
       "6   N85639  0407010F0              Co-Codamol_Cap 30mg/500mg      1  0.84   \n",
       "7   N85639  0407010F0                  Zapain_Tab 30mg/500mg      1  3.03   \n",
       "8   N85639  0407010H0       Paracet_Oral Susp Paed 120mg/5ml      1  0.62   \n",
       "9   N85639  0501011P0  Phenoxymethylpenicillin Pot_Tab 250mg      2  5.94   \n",
       "\n",
       "   act_cost  quantity    code post_code  \n",
       "0      0.47        12  N85639  CH44 5UF  \n",
       "1      4.07        30  N85639  CH44 5UF  \n",
       "2      1.40         1  N85639  CH44 5UF  \n",
       "3      2.44       150  N85639  CH44 5UF  \n",
       "4      0.26         6  N85639  CH44 5UF  \n",
       "5      0.91        28  N85639  CH44 5UF  \n",
       "6      0.89        24  N85639  CH44 5UF  \n",
       "7      2.82       100  N85639  CH44 5UF  \n",
       "8      0.69       100  N85639  CH44 5UF  \n",
       "9      5.72       160  N85639  CH44 5UF  "
      ]
     },
     "execution_count": 23,
     "metadata": {},
     "output_type": "execute_result"
    }
   ],
   "source": [
    "scripts_practices.head(10)"
   ]
  },
  {
   "cell_type": "code",
   "execution_count": 20,
   "metadata": {},
   "outputs": [],
   "source": [
    "# #tests\n",
    "# maxbnf = scripts_practices[scripts_practices['post_code'] =='B11 4BW'].groupby('bnf_name').sum()['items']\n",
    "# maxone = maxbnf.max()\n",
    "# postal_total = scripts_practices[scripts_practices['post_code'] =='B11 4BW']['items'].sum()\n",
    "# maxone/postal_total"
   ]
  },
  {
   "cell_type": "code",
   "execution_count": 21,
   "metadata": {},
   "outputs": [
    {
     "data": {
      "text/plain": [
       "post_code\n",
       "B11 4BW     22731\n",
       "B12 9LP     17073\n",
       "B18 7AL     20508\n",
       "B21 9RY     31027\n",
       "B23 6DJ     28011\n",
       "            ...  \n",
       "WS3 3JP     36890\n",
       "WS9 8AJ     24483\n",
       "WV13 2DR    36381\n",
       "YO11 1UB    28507\n",
       "YO16 4LZ    53847\n",
       "Name: items, Length: 259, dtype: int64"
      ]
     },
     "execution_count": 21,
     "metadata": {},
     "output_type": "execute_result"
    }
   ],
   "source": [
    "postal_totals = scripts_practices.groupby('post_code')['items'].sum()\n",
    "postal_totals"
   ]
  },
  {
   "cell_type": "code",
   "execution_count": 22,
   "metadata": {},
   "outputs": [
    {
     "data": {
      "text/plain": [
       "post_code\n",
       "B11 4BW     [Salbutamol_Inha 100mcg (200 D) CFF, 706]\n",
       "B12 9LP                      [Paracet_Tab 500mg, 425]\n",
       "B18 7AL     [Salbutamol_Inha 100mcg (200 D) CFF, 556]\n",
       "B21 9RY               [Metformin HCl_Tab 500mg, 1033]\n",
       "B23 6DJ       [Lansoprazole_Cap 30mg (E/C Gran), 599]\n",
       "                              ...                    \n",
       "WS3 3JP                      [Paracet_Tab 500mg, 789]\n",
       "WS9 8AJ                     [Amlodipine_Tab 5mg, 396]\n",
       "WV13 2DR    [Salbutamol_Inha 100mcg (200 D) CFF, 809]\n",
       "YO11 1UB               [Omeprazole_Cap E/C 20mg, 847]\n",
       "YO16 4LZ              [Aspirin Disper_Tab 75mg, 1194]\n",
       "Length: 259, dtype: object"
      ]
     },
     "execution_count": 22,
     "metadata": {},
     "output_type": "execute_result"
    }
   ],
   "source": [
    "def findmaxBnf(groupby_object):\n",
    "    res = groupby_object.groupby('bnf_name')['items'].sum()\n",
    "    res=res.sort_index()\n",
    "    return [res.idxmax(),res.max()]\n",
    "max_bnfs=scripts_practices.groupby('post_code').apply(findmaxBnf)\n",
    "max_bnfs"
   ]
  },
  {
   "cell_type": "code",
   "execution_count": 23,
   "metadata": {},
   "outputs": [
    {
     "data": {
      "text/html": [
       "<div>\n",
       "<style scoped>\n",
       "    .dataframe tbody tr th:only-of-type {\n",
       "        vertical-align: middle;\n",
       "    }\n",
       "\n",
       "    .dataframe tbody tr th {\n",
       "        vertical-align: top;\n",
       "    }\n",
       "\n",
       "    .dataframe thead th {\n",
       "        text-align: right;\n",
       "    }\n",
       "</style>\n",
       "<table border=\"1\" class=\"dataframe\">\n",
       "  <thead>\n",
       "    <tr style=\"text-align: right;\">\n",
       "      <th></th>\n",
       "      <th>post_code</th>\n",
       "      <th>postal_totals</th>\n",
       "      <th>max_bnfs</th>\n",
       "    </tr>\n",
       "  </thead>\n",
       "  <tbody>\n",
       "    <tr>\n",
       "      <th>0</th>\n",
       "      <td>B11 4BW</td>\n",
       "      <td>22731</td>\n",
       "      <td>[Salbutamol_Inha 100mcg (200 D) CFF, 706]</td>\n",
       "    </tr>\n",
       "    <tr>\n",
       "      <th>1</th>\n",
       "      <td>B12 9LP</td>\n",
       "      <td>17073</td>\n",
       "      <td>[Paracet_Tab 500mg, 425]</td>\n",
       "    </tr>\n",
       "    <tr>\n",
       "      <th>2</th>\n",
       "      <td>B18 7AL</td>\n",
       "      <td>20508</td>\n",
       "      <td>[Salbutamol_Inha 100mcg (200 D) CFF, 556]</td>\n",
       "    </tr>\n",
       "    <tr>\n",
       "      <th>3</th>\n",
       "      <td>B21 9RY</td>\n",
       "      <td>31027</td>\n",
       "      <td>[Metformin HCl_Tab 500mg, 1033]</td>\n",
       "    </tr>\n",
       "    <tr>\n",
       "      <th>4</th>\n",
       "      <td>B23 6DJ</td>\n",
       "      <td>28011</td>\n",
       "      <td>[Lansoprazole_Cap 30mg (E/C Gran), 599]</td>\n",
       "    </tr>\n",
       "  </tbody>\n",
       "</table>\n",
       "</div>"
      ],
      "text/plain": [
       "  post_code  postal_totals                                   max_bnfs\n",
       "0   B11 4BW          22731  [Salbutamol_Inha 100mcg (200 D) CFF, 706]\n",
       "1   B12 9LP          17073                   [Paracet_Tab 500mg, 425]\n",
       "2   B18 7AL          20508  [Salbutamol_Inha 100mcg (200 D) CFF, 556]\n",
       "3   B21 9RY          31027            [Metformin HCl_Tab 500mg, 1033]\n",
       "4   B23 6DJ          28011    [Lansoprazole_Cap 30mg (E/C Gran), 599]"
      ]
     },
     "execution_count": 23,
     "metadata": {},
     "output_type": "execute_result"
    }
   ],
   "source": [
    "max_bnfs_frame = pd.DataFrame({'postal_totals':postal_totals,'max_bnfs':max_bnfs})\n",
    "max_bnfs_frame = max_bnfs_frame.sort_index()\n",
    "max_bnfs_frame.reset_index(level=0,inplace=True)\n",
    "max_bnfs_frame.head()"
   ]
  },
  {
   "cell_type": "code",
   "execution_count": 24,
   "metadata": {},
   "outputs": [],
   "source": [
    "max_bnfs_frame[['max_bnf','max_item']] =max_bnfs_frame['max_bnfs'].apply(pd.Series)\n",
    "max_bnfs_frame['proportion'] = max_bnfs_frame['max_item']/max_bnfs_frame['postal_totals']\n",
    "max_bnfs_frame =max_bnfs_frame.drop(['max_bnfs'],axis=1)\n"
   ]
  },
  {
   "cell_type": "code",
   "execution_count": 25,
   "metadata": {},
   "outputs": [
    {
     "data": {
      "text/html": [
       "<div>\n",
       "<style scoped>\n",
       "    .dataframe tbody tr th:only-of-type {\n",
       "        vertical-align: middle;\n",
       "    }\n",
       "\n",
       "    .dataframe tbody tr th {\n",
       "        vertical-align: top;\n",
       "    }\n",
       "\n",
       "    .dataframe thead th {\n",
       "        text-align: right;\n",
       "    }\n",
       "</style>\n",
       "<table border=\"1\" class=\"dataframe\">\n",
       "  <thead>\n",
       "    <tr style=\"text-align: right;\">\n",
       "      <th></th>\n",
       "      <th>post_code</th>\n",
       "      <th>postal_totals</th>\n",
       "      <th>max_bnf</th>\n",
       "      <th>max_item</th>\n",
       "      <th>proportion</th>\n",
       "    </tr>\n",
       "  </thead>\n",
       "  <tbody>\n",
       "    <tr>\n",
       "      <th>0</th>\n",
       "      <td>B11 4BW</td>\n",
       "      <td>22731</td>\n",
       "      <td>Salbutamol_Inha 100mcg (200 D) CFF</td>\n",
       "      <td>706</td>\n",
       "      <td>0.031059</td>\n",
       "    </tr>\n",
       "    <tr>\n",
       "      <th>1</th>\n",
       "      <td>B12 9LP</td>\n",
       "      <td>17073</td>\n",
       "      <td>Paracet_Tab 500mg</td>\n",
       "      <td>425</td>\n",
       "      <td>0.024893</td>\n",
       "    </tr>\n",
       "    <tr>\n",
       "      <th>2</th>\n",
       "      <td>B18 7AL</td>\n",
       "      <td>20508</td>\n",
       "      <td>Salbutamol_Inha 100mcg (200 D) CFF</td>\n",
       "      <td>556</td>\n",
       "      <td>0.027111</td>\n",
       "    </tr>\n",
       "    <tr>\n",
       "      <th>3</th>\n",
       "      <td>B21 9RY</td>\n",
       "      <td>31027</td>\n",
       "      <td>Metformin HCl_Tab 500mg</td>\n",
       "      <td>1033</td>\n",
       "      <td>0.033294</td>\n",
       "    </tr>\n",
       "    <tr>\n",
       "      <th>4</th>\n",
       "      <td>B23 6DJ</td>\n",
       "      <td>28011</td>\n",
       "      <td>Lansoprazole_Cap 30mg (E/C Gran)</td>\n",
       "      <td>599</td>\n",
       "      <td>0.021384</td>\n",
       "    </tr>\n",
       "    <tr>\n",
       "      <th>5</th>\n",
       "      <td>B61 0AZ</td>\n",
       "      <td>33225</td>\n",
       "      <td>Omeprazole_Cap E/C 20mg</td>\n",
       "      <td>954</td>\n",
       "      <td>0.028713</td>\n",
       "    </tr>\n",
       "    <tr>\n",
       "      <th>6</th>\n",
       "      <td>B70 7AW</td>\n",
       "      <td>38789</td>\n",
       "      <td>Paracet_Tab 500mg</td>\n",
       "      <td>975</td>\n",
       "      <td>0.025136</td>\n",
       "    </tr>\n",
       "    <tr>\n",
       "      <th>7</th>\n",
       "      <td>B72 1RL</td>\n",
       "      <td>28326</td>\n",
       "      <td>Omeprazole_Cap E/C 20mg</td>\n",
       "      <td>573</td>\n",
       "      <td>0.020229</td>\n",
       "    </tr>\n",
       "    <tr>\n",
       "      <th>8</th>\n",
       "      <td>B8 1RZ</td>\n",
       "      <td>17941</td>\n",
       "      <td>Metformin HCl_Tab 500mg</td>\n",
       "      <td>383</td>\n",
       "      <td>0.021348</td>\n",
       "    </tr>\n",
       "    <tr>\n",
       "      <th>9</th>\n",
       "      <td>B9 5PU</td>\n",
       "      <td>36212</td>\n",
       "      <td>Ventolin_Evohaler 100mcg (200 D)</td>\n",
       "      <td>899</td>\n",
       "      <td>0.024826</td>\n",
       "    </tr>\n",
       "    <tr>\n",
       "      <th>10</th>\n",
       "      <td>B90 3LX</td>\n",
       "      <td>28370</td>\n",
       "      <td>Omeprazole_Cap E/C 20mg</td>\n",
       "      <td>765</td>\n",
       "      <td>0.026965</td>\n",
       "    </tr>\n",
       "    <tr>\n",
       "      <th>11</th>\n",
       "      <td>BA5 1XJ</td>\n",
       "      <td>25795</td>\n",
       "      <td>Omeprazole_Cap E/C 20mg</td>\n",
       "      <td>729</td>\n",
       "      <td>0.028261</td>\n",
       "    </tr>\n",
       "    <tr>\n",
       "      <th>12</th>\n",
       "      <td>BB11 2DL</td>\n",
       "      <td>36192</td>\n",
       "      <td>Omeprazole_Cap E/C 20mg</td>\n",
       "      <td>991</td>\n",
       "      <td>0.027382</td>\n",
       "    </tr>\n",
       "    <tr>\n",
       "      <th>13</th>\n",
       "      <td>BB2 1AX</td>\n",
       "      <td>30045</td>\n",
       "      <td>Omeprazole_Cap E/C 20mg</td>\n",
       "      <td>1030</td>\n",
       "      <td>0.034282</td>\n",
       "    </tr>\n",
       "    <tr>\n",
       "      <th>14</th>\n",
       "      <td>BB3 1PY</td>\n",
       "      <td>57185</td>\n",
       "      <td>Omeprazole_Cap E/C 20mg</td>\n",
       "      <td>1869</td>\n",
       "      <td>0.032683</td>\n",
       "    </tr>\n",
       "    <tr>\n",
       "      <th>15</th>\n",
       "      <td>BB4 5SL</td>\n",
       "      <td>31913</td>\n",
       "      <td>Omeprazole_Cap E/C 20mg</td>\n",
       "      <td>1196</td>\n",
       "      <td>0.037477</td>\n",
       "    </tr>\n",
       "    <tr>\n",
       "      <th>16</th>\n",
       "      <td>BB4 7PL</td>\n",
       "      <td>23219</td>\n",
       "      <td>Omeprazole_Cap E/C 20mg</td>\n",
       "      <td>638</td>\n",
       "      <td>0.027477</td>\n",
       "    </tr>\n",
       "    <tr>\n",
       "      <th>17</th>\n",
       "      <td>BB7 2JG</td>\n",
       "      <td>46961</td>\n",
       "      <td>Omeprazole_Cap E/C 20mg</td>\n",
       "      <td>1314</td>\n",
       "      <td>0.027981</td>\n",
       "    </tr>\n",
       "    <tr>\n",
       "      <th>18</th>\n",
       "      <td>BB8 0JZ</td>\n",
       "      <td>57028</td>\n",
       "      <td>Atorvastatin_Tab 20mg</td>\n",
       "      <td>1227</td>\n",
       "      <td>0.021516</td>\n",
       "    </tr>\n",
       "    <tr>\n",
       "      <th>19</th>\n",
       "      <td>BB9 7SR</td>\n",
       "      <td>40531</td>\n",
       "      <td>Omeprazole_Cap E/C 20mg</td>\n",
       "      <td>911</td>\n",
       "      <td>0.022477</td>\n",
       "    </tr>\n",
       "    <tr>\n",
       "      <th>20</th>\n",
       "      <td>BD16 4RP</td>\n",
       "      <td>25724</td>\n",
       "      <td>Lansoprazole_Cap 30mg (E/C Gran)</td>\n",
       "      <td>586</td>\n",
       "      <td>0.022780</td>\n",
       "    </tr>\n",
       "    <tr>\n",
       "      <th>21</th>\n",
       "      <td>BD19 5AP</td>\n",
       "      <td>27635</td>\n",
       "      <td>Lansoprazole_Cap 30mg (E/C Gran)</td>\n",
       "      <td>571</td>\n",
       "      <td>0.020662</td>\n",
       "    </tr>\n",
       "    <tr>\n",
       "      <th>22</th>\n",
       "      <td>BD3 8QH</td>\n",
       "      <td>22708</td>\n",
       "      <td>Atorvastatin_Tab 40mg</td>\n",
       "      <td>719</td>\n",
       "      <td>0.031663</td>\n",
       "    </tr>\n",
       "    <tr>\n",
       "      <th>23</th>\n",
       "      <td>BD4 7SS</td>\n",
       "      <td>30343</td>\n",
       "      <td>Atorvastatin_Tab 40mg</td>\n",
       "      <td>1039</td>\n",
       "      <td>0.034242</td>\n",
       "    </tr>\n",
       "    <tr>\n",
       "      <th>24</th>\n",
       "      <td>BH14 0DJ</td>\n",
       "      <td>22121</td>\n",
       "      <td>Omeprazole_Cap E/C 20mg</td>\n",
       "      <td>628</td>\n",
       "      <td>0.028389</td>\n",
       "    </tr>\n",
       "    <tr>\n",
       "      <th>25</th>\n",
       "      <td>BH18 8EE</td>\n",
       "      <td>42189</td>\n",
       "      <td>Omeprazole_Cap E/C 20mg</td>\n",
       "      <td>1143</td>\n",
       "      <td>0.027092</td>\n",
       "    </tr>\n",
       "    <tr>\n",
       "      <th>26</th>\n",
       "      <td>BH23 3AF</td>\n",
       "      <td>34263</td>\n",
       "      <td>Omeprazole_Cap E/C 20mg</td>\n",
       "      <td>1215</td>\n",
       "      <td>0.035461</td>\n",
       "    </tr>\n",
       "    <tr>\n",
       "      <th>27</th>\n",
       "      <td>BL1 3RG</td>\n",
       "      <td>22691</td>\n",
       "      <td>Omeprazole_Cap E/C 20mg</td>\n",
       "      <td>763</td>\n",
       "      <td>0.033626</td>\n",
       "    </tr>\n",
       "    <tr>\n",
       "      <th>28</th>\n",
       "      <td>BL1 8TU</td>\n",
       "      <td>29175</td>\n",
       "      <td>Omeprazole_Cap E/C 20mg</td>\n",
       "      <td>809</td>\n",
       "      <td>0.027729</td>\n",
       "    </tr>\n",
       "    <tr>\n",
       "      <th>29</th>\n",
       "      <td>BL2 6NT</td>\n",
       "      <td>26255</td>\n",
       "      <td>Omeprazole_Cap E/C 20mg</td>\n",
       "      <td>713</td>\n",
       "      <td>0.027157</td>\n",
       "    </tr>\n",
       "    <tr>\n",
       "      <th>...</th>\n",
       "      <td>...</td>\n",
       "      <td>...</td>\n",
       "      <td>...</td>\n",
       "      <td>...</td>\n",
       "      <td>...</td>\n",
       "    </tr>\n",
       "    <tr>\n",
       "      <th>229</th>\n",
       "      <td>WA7 2UT</td>\n",
       "      <td>28960</td>\n",
       "      <td>Omeprazole_Cap E/C 20mg</td>\n",
       "      <td>1086</td>\n",
       "      <td>0.037500</td>\n",
       "    </tr>\n",
       "    <tr>\n",
       "      <th>230</th>\n",
       "      <td>WA9 1LN</td>\n",
       "      <td>31406</td>\n",
       "      <td>Lansoprazole_Cap 15mg (E/C Gran)</td>\n",
       "      <td>632</td>\n",
       "      <td>0.020124</td>\n",
       "    </tr>\n",
       "    <tr>\n",
       "      <th>231</th>\n",
       "      <td>WD18 0JP</td>\n",
       "      <td>22635</td>\n",
       "      <td>Omeprazole_Cap E/C 20mg</td>\n",
       "      <td>683</td>\n",
       "      <td>0.030175</td>\n",
       "    </tr>\n",
       "    <tr>\n",
       "      <th>232</th>\n",
       "      <td>WD18 7QR</td>\n",
       "      <td>39533</td>\n",
       "      <td>Omeprazole_Cap E/C 20mg</td>\n",
       "      <td>1216</td>\n",
       "      <td>0.030759</td>\n",
       "    </tr>\n",
       "    <tr>\n",
       "      <th>233</th>\n",
       "      <td>WD23 2NN</td>\n",
       "      <td>40170</td>\n",
       "      <td>Omeprazole_Cap E/C 20mg</td>\n",
       "      <td>1126</td>\n",
       "      <td>0.028031</td>\n",
       "    </tr>\n",
       "    <tr>\n",
       "      <th>234</th>\n",
       "      <td>WD3 7DJ</td>\n",
       "      <td>30032</td>\n",
       "      <td>Omeprazole_Cap E/C 20mg</td>\n",
       "      <td>878</td>\n",
       "      <td>0.029235</td>\n",
       "    </tr>\n",
       "    <tr>\n",
       "      <th>235</th>\n",
       "      <td>WF13 1HN</td>\n",
       "      <td>27632</td>\n",
       "      <td>Lansoprazole_Cap 30mg (E/C Gran)</td>\n",
       "      <td>549</td>\n",
       "      <td>0.019868</td>\n",
       "    </tr>\n",
       "    <tr>\n",
       "      <th>236</th>\n",
       "      <td>WF16 0HH</td>\n",
       "      <td>43434</td>\n",
       "      <td>Paracet_Tab 500mg</td>\n",
       "      <td>1004</td>\n",
       "      <td>0.023116</td>\n",
       "    </tr>\n",
       "    <tr>\n",
       "      <th>237</th>\n",
       "      <td>WF5 8DF</td>\n",
       "      <td>27208</td>\n",
       "      <td>Salbutamol_Inha 100mcg (200 D) CFF</td>\n",
       "      <td>579</td>\n",
       "      <td>0.021281</td>\n",
       "    </tr>\n",
       "    <tr>\n",
       "      <th>238</th>\n",
       "      <td>WF9 3AP</td>\n",
       "      <td>29537</td>\n",
       "      <td>Atorvastatin_Tab 20mg</td>\n",
       "      <td>603</td>\n",
       "      <td>0.020415</td>\n",
       "    </tr>\n",
       "    <tr>\n",
       "      <th>239</th>\n",
       "      <td>WN2 5NG</td>\n",
       "      <td>25369</td>\n",
       "      <td>Omeprazole_Cap E/C 20mg</td>\n",
       "      <td>939</td>\n",
       "      <td>0.037014</td>\n",
       "    </tr>\n",
       "    <tr>\n",
       "      <th>240</th>\n",
       "      <td>WN3 5HL</td>\n",
       "      <td>32627</td>\n",
       "      <td>Omeprazole_Cap E/C 20mg</td>\n",
       "      <td>1448</td>\n",
       "      <td>0.044380</td>\n",
       "    </tr>\n",
       "    <tr>\n",
       "      <th>241</th>\n",
       "      <td>WN5 9QX</td>\n",
       "      <td>32404</td>\n",
       "      <td>Omeprazole_Cap E/C 20mg</td>\n",
       "      <td>1392</td>\n",
       "      <td>0.042958</td>\n",
       "    </tr>\n",
       "    <tr>\n",
       "      <th>242</th>\n",
       "      <td>WN7 1HR</td>\n",
       "      <td>30791</td>\n",
       "      <td>Omeprazole_Cap E/C 20mg</td>\n",
       "      <td>1074</td>\n",
       "      <td>0.034880</td>\n",
       "    </tr>\n",
       "    <tr>\n",
       "      <th>243</th>\n",
       "      <td>WN7 2PE</td>\n",
       "      <td>25100</td>\n",
       "      <td>Omeprazole_Cap E/C 20mg</td>\n",
       "      <td>960</td>\n",
       "      <td>0.038247</td>\n",
       "    </tr>\n",
       "    <tr>\n",
       "      <th>244</th>\n",
       "      <td>WR11 4BS</td>\n",
       "      <td>47948</td>\n",
       "      <td>Imuvac_Vac 0.5ml Pfs</td>\n",
       "      <td>1742</td>\n",
       "      <td>0.036331</td>\n",
       "    </tr>\n",
       "    <tr>\n",
       "      <th>245</th>\n",
       "      <td>WR14 2GP</td>\n",
       "      <td>34040</td>\n",
       "      <td>Omeprazole_Cap E/C 20mg</td>\n",
       "      <td>914</td>\n",
       "      <td>0.026851</td>\n",
       "    </tr>\n",
       "    <tr>\n",
       "      <th>246</th>\n",
       "      <td>WR9 8RD</td>\n",
       "      <td>26304</td>\n",
       "      <td>Omeprazole_Cap E/C 20mg</td>\n",
       "      <td>749</td>\n",
       "      <td>0.028475</td>\n",
       "    </tr>\n",
       "    <tr>\n",
       "      <th>247</th>\n",
       "      <td>WS1 3PS</td>\n",
       "      <td>15517</td>\n",
       "      <td>Metformin HCl_Tab 500mg</td>\n",
       "      <td>317</td>\n",
       "      <td>0.020429</td>\n",
       "    </tr>\n",
       "    <tr>\n",
       "      <th>248</th>\n",
       "      <td>WS10 8SY</td>\n",
       "      <td>13983</td>\n",
       "      <td>Salbutamol_Inha 100mcg (200 D) CFF</td>\n",
       "      <td>337</td>\n",
       "      <td>0.024101</td>\n",
       "    </tr>\n",
       "    <tr>\n",
       "      <th>249</th>\n",
       "      <td>WS11 9SE</td>\n",
       "      <td>15893</td>\n",
       "      <td>Lansoprazole_Cap 30mg (E/C Gran)</td>\n",
       "      <td>324</td>\n",
       "      <td>0.020386</td>\n",
       "    </tr>\n",
       "    <tr>\n",
       "      <th>250</th>\n",
       "      <td>WS13 6JL</td>\n",
       "      <td>42958</td>\n",
       "      <td>Aspirin Disper_Tab 75mg</td>\n",
       "      <td>994</td>\n",
       "      <td>0.023139</td>\n",
       "    </tr>\n",
       "    <tr>\n",
       "      <th>251</th>\n",
       "      <td>WS13 7HT</td>\n",
       "      <td>31013</td>\n",
       "      <td>Omeprazole_Cap E/C 20mg</td>\n",
       "      <td>558</td>\n",
       "      <td>0.017992</td>\n",
       "    </tr>\n",
       "    <tr>\n",
       "      <th>252</th>\n",
       "      <td>WS2 0BA</td>\n",
       "      <td>19337</td>\n",
       "      <td>Influenza_Vac Inact 0.5ml Pfs</td>\n",
       "      <td>977</td>\n",
       "      <td>0.050525</td>\n",
       "    </tr>\n",
       "    <tr>\n",
       "      <th>253</th>\n",
       "      <td>WS3 1ET</td>\n",
       "      <td>19819</td>\n",
       "      <td>Salbutamol_Inha 100mcg (200 D) CFF</td>\n",
       "      <td>436</td>\n",
       "      <td>0.021999</td>\n",
       "    </tr>\n",
       "    <tr>\n",
       "      <th>254</th>\n",
       "      <td>WS3 3JP</td>\n",
       "      <td>36890</td>\n",
       "      <td>Paracet_Tab 500mg</td>\n",
       "      <td>789</td>\n",
       "      <td>0.021388</td>\n",
       "    </tr>\n",
       "    <tr>\n",
       "      <th>255</th>\n",
       "      <td>WS9 8AJ</td>\n",
       "      <td>24483</td>\n",
       "      <td>Amlodipine_Tab 5mg</td>\n",
       "      <td>396</td>\n",
       "      <td>0.016174</td>\n",
       "    </tr>\n",
       "    <tr>\n",
       "      <th>256</th>\n",
       "      <td>WV13 2DR</td>\n",
       "      <td>36381</td>\n",
       "      <td>Salbutamol_Inha 100mcg (200 D) CFF</td>\n",
       "      <td>809</td>\n",
       "      <td>0.022237</td>\n",
       "    </tr>\n",
       "    <tr>\n",
       "      <th>257</th>\n",
       "      <td>YO11 1UB</td>\n",
       "      <td>28507</td>\n",
       "      <td>Omeprazole_Cap E/C 20mg</td>\n",
       "      <td>847</td>\n",
       "      <td>0.029712</td>\n",
       "    </tr>\n",
       "    <tr>\n",
       "      <th>258</th>\n",
       "      <td>YO16 4LZ</td>\n",
       "      <td>53847</td>\n",
       "      <td>Aspirin Disper_Tab 75mg</td>\n",
       "      <td>1194</td>\n",
       "      <td>0.022174</td>\n",
       "    </tr>\n",
       "  </tbody>\n",
       "</table>\n",
       "<p>259 rows × 5 columns</p>\n",
       "</div>"
      ],
      "text/plain": [
       "    post_code  postal_totals                             max_bnf  max_item  \\\n",
       "0     B11 4BW          22731  Salbutamol_Inha 100mcg (200 D) CFF       706   \n",
       "1     B12 9LP          17073                   Paracet_Tab 500mg       425   \n",
       "2     B18 7AL          20508  Salbutamol_Inha 100mcg (200 D) CFF       556   \n",
       "3     B21 9RY          31027             Metformin HCl_Tab 500mg      1033   \n",
       "4     B23 6DJ          28011    Lansoprazole_Cap 30mg (E/C Gran)       599   \n",
       "..        ...            ...                                 ...       ...   \n",
       "254   WS3 3JP          36890                   Paracet_Tab 500mg       789   \n",
       "255   WS9 8AJ          24483                  Amlodipine_Tab 5mg       396   \n",
       "256  WV13 2DR          36381  Salbutamol_Inha 100mcg (200 D) CFF       809   \n",
       "257  YO11 1UB          28507             Omeprazole_Cap E/C 20mg       847   \n",
       "258  YO16 4LZ          53847             Aspirin Disper_Tab 75mg      1194   \n",
       "\n",
       "     proportion  \n",
       "0      0.031059  \n",
       "1      0.024893  \n",
       "2      0.027111  \n",
       "3      0.033294  \n",
       "4      0.021384  \n",
       "..          ...  \n",
       "254    0.021388  \n",
       "255    0.016174  \n",
       "256    0.022237  \n",
       "257    0.029712  \n",
       "258    0.022174  \n",
       "\n",
       "[259 rows x 5 columns]"
      ]
     },
     "execution_count": 25,
     "metadata": {},
     "output_type": "execute_result"
    }
   ],
   "source": [
    "max_bnfs_frame"
   ]
  },
  {
   "cell_type": "code",
   "execution_count": 26,
   "metadata": {},
   "outputs": [],
   "source": [
    "# max_bnfs_frame = max_bnfs_frame.drop([289])\n",
    "# #max_bnfs_frame.sort_index()\n",
    "# max_bnfs_frame"
   ]
  },
  {
   "cell_type": "code",
   "execution_count": 26,
   "metadata": {},
   "outputs": [],
   "source": [
    "postal_codes = list(max_bnfs_frame['post_code'])\n",
    "bnf_names = list(max_bnfs_frame['max_bnf'])\n",
    "proportions = list(max_bnfs_frame['proportion'])\n",
    "final_result = zip(postal_codes[:100],bnf_names[:100],proportions[:100])\n",
    "final_list = list(final_result)\n"
   ]
  },
  {
   "cell_type": "code",
   "execution_count": 27,
   "metadata": {},
   "outputs": [],
   "source": [
    "#items_by_region = [(\"B11 4BW\", \"Salbutamol_Inha 100mcg (200 D) CFF\", 0.0310589063)] * 100\n",
    "items_by_region =final_list\n"
   ]
  },
  {
   "cell_type": "code",
   "execution_count": 28,
   "metadata": {},
   "outputs": [
    {
     "name": "stdout",
     "output_type": "stream",
     "text": [
      "==================\n",
      "Your score:  1.0\n",
      "==================\n"
     ]
    }
   ],
   "source": [
    "grader.score.dw__items_by_region(items_by_region)"
   ]
  },
  {
   "cell_type": "markdown",
   "metadata": {},
   "source": [
    "## Question 4: script_anomalies\n",
    "\n",
    "Drug abuse is a source of human and monetary costs in health care. A first step in identifying practitioners that enable drug abuse is to look for practices where commonly abused drugs are prescribed unusually often. Let's try to find practices that prescribe an unusually high amount of opioids. The opioids we'll look for are given in the list below."
   ]
  },
  {
   "cell_type": "code",
   "execution_count": 29,
   "metadata": {},
   "outputs": [],
   "source": [
    "opioids = ['morphine', 'oxycodone', 'methadone', 'fentanyl', 'pethidine', 'buprenorphine', 'propoxyphene', 'codeine']"
   ]
  },
  {
   "cell_type": "markdown",
   "metadata": {},
   "source": [
    "These are generic names for drugs, not brand names. Generic drug names can be found using the `'bnf_code'` field in `scripts` along with the `chem` table.. Use the list of opioids provided above along with these fields to make a new field in the `scripts` data that flags whether the row corresponds with a opioid prescription."
   ]
  },
  {
   "cell_type": "code",
   "execution_count": 30,
   "metadata": {},
   "outputs": [
    {
     "data": {
      "text/plain": [
       "(973193, 7)"
      ]
     },
     "execution_count": 30,
     "metadata": {},
     "output_type": "execute_result"
    }
   ],
   "source": [
    "scripts.shape"
   ]
  },
  {
   "cell_type": "code",
   "execution_count": 31,
   "metadata": {},
   "outputs": [
    {
     "name": "stdout",
     "output_type": "stream",
     "text": [
      "(973193, 7) (973193, 7)\n"
     ]
    }
   ],
   "source": [
    "scripts_cpy=scripts.copy()\n",
    "# scripts_cpy.drop_duplicates(inplace=True)\n",
    "print(scripts_cpy.shape,scripts.shape)"
   ]
  },
  {
   "cell_type": "code",
   "execution_count": 32,
   "metadata": {},
   "outputs": [
    {
     "name": "stdout",
     "output_type": "stream",
     "text": [
      "(3481, 3) (3487, 2)\n"
     ]
    }
   ],
   "source": [
    "\n",
    "# isOpioids = [False]*3487\n",
    "# for opioid in opioids:\n",
    "#     isOpioids=isOpioids | chem['NAME'].str.lower().str.contains(opioid)\n",
    "# chem['isOpioids'] = isOpioids\n",
    "# chem[chem['isOpioids']].count()\n",
    "chem_cpy=chem.copy()\n",
    "chem_cpy['isOpioids']= chem_cpy['NAME'].str.lower().str.contains('|'.join(opioids), case=False)\n",
    "chem_cpy.drop_duplicates(subset='CHEM SUB',inplace=True)\n",
    "print(chem_cpy.shape,chem.shape)"
   ]
  },
  {
   "cell_type": "code",
   "execution_count": 33,
   "metadata": {},
   "outputs": [
    {
     "name": "stdout",
     "output_type": "stream",
     "text": [
      "(34843, 10)\n",
      "(973193, 10)\n"
     ]
    }
   ],
   "source": [
    "scripts_chems = pd.merge(scripts_cpy,chem_cpy,left_on='bnf_code',right_on='CHEM SUB',how='left')\n",
    "scripts_chems['isOpioids']=scripts_chems['isOpioids'].fillna(False)\n",
    "# scripts_chems.drop_duplicates(inplace=True)\n",
    "print(scripts_chems[scripts_chems['isOpioids']].shape)\n",
    "print(scripts_chems.shape)"
   ]
  },
  {
   "cell_type": "markdown",
   "metadata": {},
   "source": [
    "Now for each practice calculate the proportion of its prescriptions containing opioids.\n",
    "\n",
    "**Hint:** Consider the following list: `[0, 1, 1, 0, 0, 0]`. What proportion of the entries are 1s? What is the mean value?"
   ]
  },
  {
   "cell_type": "code",
   "execution_count": 34,
   "metadata": {},
   "outputs": [
    {
     "data": {
      "text/plain": [
       "0.18579817605238425"
      ]
     },
     "execution_count": 34,
     "metadata": {},
     "output_type": "execute_result"
    }
   ],
   "source": [
    "opioids_per_practice = scripts_chems.groupby('practice')['isOpioids'].mean()\n",
    "# SD_ofEach=scripts_chems.groupby('practice')['isOpioids'].std()\n",
    "SD=scripts_chems['isOpioids'].std()\n",
    "SD"
   ]
  },
  {
   "cell_type": "code",
   "execution_count": 35,
   "metadata": {},
   "outputs": [],
   "source": [
    "practices_count=scripts_chems.groupby('practice')['isOpioids'].count()"
   ]
  },
  {
   "cell_type": "markdown",
   "metadata": {},
   "source": [
    "How do these proportions compare to the overall opioid prescription rate? Subtract off the proportion of all prescriptions that are opioids from each practice's proportion."
   ]
  },
  {
   "cell_type": "code",
   "execution_count": 36,
   "metadata": {},
   "outputs": [],
   "source": [
    "relative_opioids_per_practice = opioids_per_practice - scripts_chems['isOpioids'].mean()"
   ]
  },
  {
   "cell_type": "code",
   "execution_count": 102,
   "metadata": {},
   "outputs": [],
   "source": [
    "# relative_opioids_per_practice"
   ]
  },
  {
   "cell_type": "markdown",
   "metadata": {},
   "source": [
    "Now that we know the difference between each practice's opioid prescription rate and the overall rate, we can identify which practices prescribe opioids at above average or below average rates. However, are the differences from the overall rate important or just random deviations? In other words, are the differences from the overall rate big or small?\n",
    "\n",
    "To answer this question we have to quantify the difference we would typically expect between a given practice's opioid prescription rate and the overall rate. This quantity is called the **standard error**, and is related to the **standard deviation**, $\\sigma$. The standard error in this case is\n",
    "\n",
    "$$ \\frac{\\sigma}{\\sqrt{n}} $$\n",
    "\n",
    "where $n$ is the number of prescriptions each practice made. Calculate the standard error for each practice. Then divide `relative_opioids_per_practice` by the standard errors. We'll call the final result `opioid_scores`."
   ]
  },
  {
   "cell_type": "code",
   "execution_count": 37,
   "metadata": {},
   "outputs": [
    {
     "data": {
      "text/plain": [
       "practice\n",
       "A81005    38.820098\n",
       "A81007    38.131352\n",
       "A81011    39.597980\n",
       "A81012    36.496575\n",
       "A81017    46.368092\n",
       "            ...    \n",
       "Y05570     4.690416\n",
       "Y05583     5.291503\n",
       "Y05597     4.242641\n",
       "Y05660    18.627936\n",
       "Y05670     3.464102\n",
       "Name: isOpioids, Length: 856, dtype: float64"
      ]
     },
     "execution_count": 37,
     "metadata": {},
     "output_type": "execute_result"
    }
   ],
   "source": [
    "count_sqrt = practices_count**(1/2)\n",
    "count_sqrt"
   ]
  },
  {
   "cell_type": "code",
   "execution_count": 38,
   "metadata": {},
   "outputs": [],
   "source": [
    "sem_of_practices = SD/count_sqrt"
   ]
  },
  {
   "cell_type": "code",
   "execution_count": 39,
   "metadata": {},
   "outputs": [],
   "source": [
    "standard_error_per_practice = sem_of_practices\n",
    "opioid_scores = relative_opioids_per_practice/standard_error_per_practice"
   ]
  },
  {
   "cell_type": "markdown",
   "metadata": {},
   "source": [
    "The quantity we have calculated in `opioid_scores` is called a **z-score**:\n",
    "\n",
    "$$ \\frac{\\bar{X} - \\mu}{\\sqrt{\\sigma^2/n}} $$\n",
    "\n",
    "Here $\\bar{X}$ corresponds with the proportion for each practice, $\\mu$ corresponds with the proportion across all practices, $\\sigma^2$ corresponds with the variance of the proportion across all practices, and $n$ is the number of prescriptions made by each practice. Notice $\\bar{X}$ and $n$ will be different for each practice, while $\\mu$ and $\\sigma$ are determined across all prescriptions, and so are the same for every z-score. The z-score is a useful statistical tool used for hypothesis testing, finding outliers, and comparing data about different types of objects or events.\n",
    "\n",
    "Now that we've calculated this statistic, take the 100 practices with the largest z-score. Return your result as a list of tuples in the form `(practice_name, z-score, number_of_scripts)`. Sort your tuples by z-score in descending order. Note that some practice codes will correspond with multiple names. In this case, use the first match when sorting names alphabetically."
   ]
  },
  {
   "cell_type": "code",
   "execution_count": 40,
   "metadata": {},
   "outputs": [
    {
     "data": {
      "text/html": [
       "<div>\n",
       "<style scoped>\n",
       "    .dataframe tbody tr th:only-of-type {\n",
       "        vertical-align: middle;\n",
       "    }\n",
       "\n",
       "    .dataframe tbody tr th {\n",
       "        vertical-align: top;\n",
       "    }\n",
       "\n",
       "    .dataframe thead th {\n",
       "        text-align: right;\n",
       "    }\n",
       "</style>\n",
       "<table border=\"1\" class=\"dataframe\">\n",
       "  <thead>\n",
       "    <tr style=\"text-align: right;\">\n",
       "      <th></th>\n",
       "      <th>z-score</th>\n",
       "      <th>number_of_scripts</th>\n",
       "      <th>name</th>\n",
       "    </tr>\n",
       "  </thead>\n",
       "  <tbody>\n",
       "    <tr>\n",
       "      <th>Y01852</th>\n",
       "      <td>11.695818</td>\n",
       "      <td>7</td>\n",
       "      <td>NATIONAL ENHANCED SERVICE</td>\n",
       "    </tr>\n",
       "    <tr>\n",
       "      <th>Y03006</th>\n",
       "      <td>7.339043</td>\n",
       "      <td>2</td>\n",
       "      <td>OUTREACH SERVICE NH / RH</td>\n",
       "    </tr>\n",
       "    <tr>\n",
       "      <th>Y03668</th>\n",
       "      <td>6.150582</td>\n",
       "      <td>60</td>\n",
       "      <td>BRISDOC HEALTHCARE SERVICES OOH</td>\n",
       "    </tr>\n",
       "    <tr>\n",
       "      <th>G81703</th>\n",
       "      <td>5.123032</td>\n",
       "      <td>36</td>\n",
       "      <td>H&amp;R P C SPECIAL SCHEME</td>\n",
       "    </tr>\n",
       "    <tr>\n",
       "      <th>Y04997</th>\n",
       "      <td>4.958866</td>\n",
       "      <td>321</td>\n",
       "      <td>HMR BARDOC OOH</td>\n",
       "    </tr>\n",
       "  </tbody>\n",
       "</table>\n",
       "</div>"
      ],
      "text/plain": [
       "          z-score  number_of_scripts                             name\n",
       "Y01852  11.695818                  7        NATIONAL ENHANCED SERVICE\n",
       "Y03006   7.339043                  2         OUTREACH SERVICE NH / RH\n",
       "Y03668   6.150582                 60  BRISDOC HEALTHCARE SERVICES OOH\n",
       "G81703   5.123032                 36           H&R P C SPECIAL SCHEME\n",
       "Y04997   4.958866                321                   HMR BARDOC OOH"
      ]
     },
     "execution_count": 40,
     "metadata": {},
     "output_type": "execute_result"
    }
   ],
   "source": [
    "# zscore_df=pd.merge(opioid_scores,practices_count,left_index=True,right_index=True)\n",
    "practices_names = practices.groupby('code')['name'].min()\n",
    "zscore_df = pd.DataFrame({'z-score':opioid_scores,'number_of_scripts':practices_count})\n",
    "zscore_df = pd.merge(zscore_df,practices_names,left_index=True,right_index=True)\n",
    "zscore_df.sort_values('z-score',axis=0,ascending=False,inplace=True)\n",
    "zscore_df.head()"
   ]
  },
  {
   "cell_type": "code",
   "execution_count": 41,
   "metadata": {},
   "outputs": [],
   "source": [
    "final_results = list(zip(zscore_df['name'],zscore_df['z-score'],zscore_df['number_of_scripts']))\n"
   ]
  },
  {
   "cell_type": "code",
   "execution_count": 42,
   "metadata": {},
   "outputs": [],
   "source": [
    "unique_practices = 0\n",
    "# anomalies = [(\"NATIONAL ENHANCED SERVICE\", 11.6958178629, 7)] * 100\n",
    "anomalies = final_results[:100]"
   ]
  },
  {
   "cell_type": "code",
   "execution_count": 44,
   "metadata": {},
   "outputs": [],
   "source": [
    "#results.head()\n",
    "#anomalies"
   ]
  },
  {
   "cell_type": "code",
   "execution_count": 43,
   "metadata": {},
   "outputs": [
    {
     "name": "stdout",
     "output_type": "stream",
     "text": [
      "==================\n",
      "Your score:  1.0\n",
      "==================\n"
     ]
    }
   ],
   "source": [
    "grader.score.dw__script_anomalies(anomalies)"
   ]
  },
  {
   "cell_type": "markdown",
   "metadata": {},
   "source": [
    "## Question 5: script_growth\n",
    "\n",
    "Another way to identify anomalies is by comparing current data to historical data. In the case of identifying sites of drug abuse, we might compare a practice's current rate of opioid prescription to their rate 5 or 10 years ago. Unless the nature of the practice has changed, the profile of drugs they prescribe should be relatively stable. We might also want to identify trends through time for business reasons, identifying drugs that are gaining market share. That's what we'll do in this question.\n",
    "\n",
    "We'll load in beneficiary data from 6 months earlier, June 2016, and calculate the percent growth in prescription rate from June 2016 to January 2017 for each `bnf_name`. We'll return the 50 items with largest growth and the 50 items with the largest shrinkage (i.e. negative percent growth) as a list of tuples sorted by growth rate in descending order in the format `(script_name, growth_rate, raw_2016_count)`. You'll notice that many of the 50 fastest growing items have low counts of prescriptions in 2016. Filter out any items that were prescribed less than 50 times."
   ]
  },
  {
   "cell_type": "code",
   "execution_count": 44,
   "metadata": {},
   "outputs": [],
   "source": [
    "scripts16 = pd.read_csv('./dw-data/201606scripts_sample.csv.gz')"
   ]
  },
  {
   "cell_type": "code",
   "execution_count": 45,
   "metadata": {},
   "outputs": [
    {
     "name": "stdout",
     "output_type": "stream",
     "text": [
      "(973193, 7)\n",
      "13471\n",
      "13540\n"
     ]
    }
   ],
   "source": [
    "print(scripts16.shape)\n",
    "print(scripts['bnf_name'].nunique())\n",
    "print(scripts16['bnf_name'].nunique())"
   ]
  },
  {
   "cell_type": "code",
   "execution_count": 46,
   "metadata": {},
   "outputs": [],
   "source": [
    "items_total_2017=scripts.groupby('bnf_name').agg({'bnf_name':'count'})\n",
    "items_total_2016=scripts16.groupby('bnf_name').agg({'bnf_name':'count'})\n",
    "comparator_df = pd.merge(items_total_2017,items_total_2016,left_index=True,right_index=True,how='inner')\n",
    "comparator_df.rename(columns={'bnf_name_x':'2017_total','bnf_name_y':'2016_total'},inplace=True)\n",
    "comparator_df['script_growth'] = (comparator_df['2017_total']-comparator_df['2016_total'])/comparator_df['2016_total']\n",
    "comparator_df.sort_values(by=['script_growth'],inplace=True,ascending=False)\n",
    "comparator_df.reset_index(level=0,inplace=True)"
   ]
  },
  {
   "cell_type": "code",
   "execution_count": 47,
   "metadata": {},
   "outputs": [
    {
     "data": {
      "text/html": [
       "<div>\n",
       "<style scoped>\n",
       "    .dataframe tbody tr th:only-of-type {\n",
       "        vertical-align: middle;\n",
       "    }\n",
       "\n",
       "    .dataframe tbody tr th {\n",
       "        vertical-align: top;\n",
       "    }\n",
       "\n",
       "    .dataframe thead th {\n",
       "        text-align: right;\n",
       "    }\n",
       "</style>\n",
       "<table border=\"1\" class=\"dataframe\">\n",
       "  <thead>\n",
       "    <tr style=\"text-align: right;\">\n",
       "      <th></th>\n",
       "      <th>bnf_name</th>\n",
       "      <th>2017_total</th>\n",
       "      <th>2016_total</th>\n",
       "      <th>script_growth</th>\n",
       "    </tr>\n",
       "  </thead>\n",
       "  <tbody>\n",
       "    <tr>\n",
       "      <th>142</th>\n",
       "      <td>Butec_Transdermal Patch 5mcg/hr</td>\n",
       "      <td>277</td>\n",
       "      <td>62</td>\n",
       "      <td>3.467742</td>\n",
       "    </tr>\n",
       "    <tr>\n",
       "      <th>228</th>\n",
       "      <td>Butec_Transdermal Patch 10mcg/hr</td>\n",
       "      <td>276</td>\n",
       "      <td>69</td>\n",
       "      <td>3.000000</td>\n",
       "    </tr>\n",
       "    <tr>\n",
       "      <th>605</th>\n",
       "      <td>Fostair NEXThaler_Inh 200mcg/6mcg (120D)</td>\n",
       "      <td>209</td>\n",
       "      <td>86</td>\n",
       "      <td>1.430233</td>\n",
       "    </tr>\n",
       "    <tr>\n",
       "      <th>653</th>\n",
       "      <td>Pneumococcal_Vac 0.5ml Vl (23 Valent)</td>\n",
       "      <td>438</td>\n",
       "      <td>193</td>\n",
       "      <td>1.269430</td>\n",
       "    </tr>\n",
       "    <tr>\n",
       "      <th>654</th>\n",
       "      <td>Spiolto Respimat_Inha2.5/2.5mcg(60D)+Dev</td>\n",
       "      <td>118</td>\n",
       "      <td>52</td>\n",
       "      <td>1.269231</td>\n",
       "    </tr>\n",
       "  </tbody>\n",
       "</table>\n",
       "</div>"
      ],
      "text/plain": [
       "                                     bnf_name  2017_total  2016_total  \\\n",
       "142           Butec_Transdermal Patch 5mcg/hr         277          62   \n",
       "228          Butec_Transdermal Patch 10mcg/hr         276          69   \n",
       "605  Fostair NEXThaler_Inh 200mcg/6mcg (120D)         209          86   \n",
       "653     Pneumococcal_Vac 0.5ml Vl (23 Valent)         438         193   \n",
       "654  Spiolto Respimat_Inha2.5/2.5mcg(60D)+Dev         118          52   \n",
       "\n",
       "     script_growth  \n",
       "142       3.467742  \n",
       "228       3.000000  \n",
       "605       1.430233  \n",
       "653       1.269430  \n",
       "654       1.269231  "
      ]
     },
     "execution_count": 47,
     "metadata": {},
     "output_type": "execute_result"
    }
   ],
   "source": [
    "filtered_df = comparator_df[comparator_df['2016_total']>=50]\n",
    "filtered_df.head()"
   ]
  },
  {
   "cell_type": "code",
   "execution_count": 48,
   "metadata": {},
   "outputs": [],
   "source": [
    "largest_growth = filtered_df.head(50)"
   ]
  },
  {
   "cell_type": "code",
   "execution_count": 49,
   "metadata": {},
   "outputs": [],
   "source": [
    "largest_shrinkage = filtered_df.tail(50)"
   ]
  },
  {
   "cell_type": "code",
   "execution_count": 50,
   "metadata": {},
   "outputs": [],
   "source": [
    "first_50_result=list(zip(largest_growth['bnf_name'],largest_growth['script_growth'],largest_growth['2016_total']))\n",
    "last_50_result =list(zip(largest_shrinkage['bnf_name'],largest_shrinkage['script_growth'],largest_shrinkage['2016_total']))\n",
    "final_result = first_50_result+last_50_result"
   ]
  },
  {
   "cell_type": "code",
   "execution_count": 51,
   "metadata": {},
   "outputs": [],
   "source": [
    "# script_growth = [(\"Butec_Transdermal Patch 5mcg/hr\", 3.4677419355, 62.0)] * 100\n",
    "script_growth = final_result"
   ]
  },
  {
   "cell_type": "code",
   "execution_count": 52,
   "metadata": {},
   "outputs": [
    {
     "name": "stdout",
     "output_type": "stream",
     "text": [
      "==================\n",
      "Your score:  1.0\n",
      "==================\n"
     ]
    }
   ],
   "source": [
    "grader.score.dw__script_growth(script_growth)"
   ]
  },
  {
   "cell_type": "markdown",
   "metadata": {},
   "source": [
    "## Question 6: rare_scripts\n",
    "\n",
    "Does a practice's prescription costs originate from routine care or from reliance on rarely prescribed treatments? Commonplace treatments can carry lower costs than rare treatments because of efficiencies in large-scale production. While some specialist practices can't help but avoid prescribing rare medicines because there are no alternatives, some practices may be prescribing a unnecessary amount of brand-name products when generics are available. Let's identify practices whose costs disproportionately originate from rarely prescribed items.\n",
    "\n",
    "First we have to identify which `'bnf_code'` are rare. To do this, find the probability $p$ of a prescription having a particular `'bnf_code'` if the `'bnf_code'` was randomly chosen from the unique options in the beneficiary data. We will call a `'bnf_code'` rare if it is prescribed at a rate less than $0.1p$."
   ]
  },
  {
   "cell_type": "code",
   "execution_count": 64,
   "metadata": {},
   "outputs": [
    {
     "data": {
      "text/html": [
       "<div>\n",
       "<style scoped>\n",
       "    .dataframe tbody tr th:only-of-type {\n",
       "        vertical-align: middle;\n",
       "    }\n",
       "\n",
       "    .dataframe tbody tr th {\n",
       "        vertical-align: top;\n",
       "    }\n",
       "\n",
       "    .dataframe thead th {\n",
       "        text-align: right;\n",
       "    }\n",
       "</style>\n",
       "<table border=\"1\" class=\"dataframe\">\n",
       "  <thead>\n",
       "    <tr style=\"text-align: right;\">\n",
       "      <th></th>\n",
       "      <th>practice</th>\n",
       "      <th>bnf_code</th>\n",
       "      <th>bnf_name</th>\n",
       "      <th>items</th>\n",
       "      <th>nic</th>\n",
       "      <th>act_cost</th>\n",
       "      <th>quantity</th>\n",
       "    </tr>\n",
       "  </thead>\n",
       "  <tbody>\n",
       "    <tr>\n",
       "      <th>0</th>\n",
       "      <td>N85639</td>\n",
       "      <td>0106020C0</td>\n",
       "      <td>Bisacodyl_Tab E/C 5mg</td>\n",
       "      <td>1</td>\n",
       "      <td>0.39</td>\n",
       "      <td>0.47</td>\n",
       "      <td>12</td>\n",
       "    </tr>\n",
       "    <tr>\n",
       "      <th>1</th>\n",
       "      <td>N85639</td>\n",
       "      <td>0106040M0</td>\n",
       "      <td>Movicol Plain_Paed Pdr Sach 6.9g</td>\n",
       "      <td>1</td>\n",
       "      <td>4.38</td>\n",
       "      <td>4.07</td>\n",
       "      <td>30</td>\n",
       "    </tr>\n",
       "    <tr>\n",
       "      <th>2</th>\n",
       "      <td>N85639</td>\n",
       "      <td>0301011R0</td>\n",
       "      <td>Salbutamol_Inha 100mcg (200 D) CFF</td>\n",
       "      <td>1</td>\n",
       "      <td>1.50</td>\n",
       "      <td>1.40</td>\n",
       "      <td>1</td>\n",
       "    </tr>\n",
       "    <tr>\n",
       "      <th>3</th>\n",
       "      <td>N85639</td>\n",
       "      <td>0304010G0</td>\n",
       "      <td>Chlorphenamine Mal_Oral Soln 2mg/5ml</td>\n",
       "      <td>1</td>\n",
       "      <td>2.62</td>\n",
       "      <td>2.44</td>\n",
       "      <td>150</td>\n",
       "    </tr>\n",
       "    <tr>\n",
       "      <th>4</th>\n",
       "      <td>N85639</td>\n",
       "      <td>0401020K0</td>\n",
       "      <td>Diazepam_Tab 2mg</td>\n",
       "      <td>1</td>\n",
       "      <td>0.16</td>\n",
       "      <td>0.26</td>\n",
       "      <td>6</td>\n",
       "    </tr>\n",
       "  </tbody>\n",
       "</table>\n",
       "</div>"
      ],
      "text/plain": [
       "  practice   bnf_code                              bnf_name  items   nic  \\\n",
       "0   N85639  0106020C0                 Bisacodyl_Tab E/C 5mg      1  0.39   \n",
       "1   N85639  0106040M0      Movicol Plain_Paed Pdr Sach 6.9g      1  4.38   \n",
       "2   N85639  0301011R0    Salbutamol_Inha 100mcg (200 D) CFF      1  1.50   \n",
       "3   N85639  0304010G0  Chlorphenamine Mal_Oral Soln 2mg/5ml      1  2.62   \n",
       "4   N85639  0401020K0                      Diazepam_Tab 2mg      1  0.16   \n",
       "\n",
       "   act_cost  quantity  \n",
       "0      0.47        12  \n",
       "1      4.07        30  \n",
       "2      1.40         1  \n",
       "3      2.44       150  \n",
       "4      0.26         6  "
      ]
     },
     "execution_count": 64,
     "metadata": {},
     "output_type": "execute_result"
    }
   ],
   "source": [
    "scripts_q6_df = scripts.copy()\n",
    "scripts_q6_df.head()"
   ]
  },
  {
   "cell_type": "code",
   "execution_count": 65,
   "metadata": {},
   "outputs": [
    {
     "data": {
      "text/plain": [
       "bnf_code\n",
       "0101010C0    0.000035\n",
       "0101010F0    0.000002\n",
       "0101010G0    0.000385\n",
       "0101010I0    0.000035\n",
       "0101010J0    0.000042\n",
       "               ...   \n",
       "239634596    0.000089\n",
       "239641097    0.000100\n",
       "239648096    0.000024\n",
       "239656096    0.000051\n",
       "239659096    0.000014\n",
       "Name: bnf_code, Length: 1975, dtype: float64"
      ]
     },
     "execution_count": 65,
     "metadata": {},
     "output_type": "execute_result"
    }
   ],
   "source": [
    "# p = 1/(chem['CHEM SUB'].nunique())\n",
    "p = 1/(scripts_q6_df['bnf_code'].nunique())\n",
    "rates = (scripts_q6_df.groupby('bnf_code')['bnf_code'].count())/scripts_q6_df['practice'].count()\n",
    "rates"
   ]
  },
  {
   "cell_type": "code",
   "execution_count": 66,
   "metadata": {},
   "outputs": [
    {
     "data": {
      "text/html": [
       "<div>\n",
       "<style scoped>\n",
       "    .dataframe tbody tr th:only-of-type {\n",
       "        vertical-align: middle;\n",
       "    }\n",
       "\n",
       "    .dataframe tbody tr th {\n",
       "        vertical-align: top;\n",
       "    }\n",
       "\n",
       "    .dataframe thead th {\n",
       "        text-align: right;\n",
       "    }\n",
       "</style>\n",
       "<table border=\"1\" class=\"dataframe\">\n",
       "  <thead>\n",
       "    <tr style=\"text-align: right;\">\n",
       "      <th></th>\n",
       "      <th>bnf_code</th>\n",
       "      <th>practice</th>\n",
       "      <th>bnf_code_x</th>\n",
       "      <th>bnf_name</th>\n",
       "      <th>items</th>\n",
       "      <th>nic</th>\n",
       "      <th>act_cost</th>\n",
       "      <th>quantity</th>\n",
       "      <th>bnf_code_y</th>\n",
       "    </tr>\n",
       "  </thead>\n",
       "  <tbody>\n",
       "    <tr>\n",
       "      <th>0</th>\n",
       "      <td>0106020C0</td>\n",
       "      <td>N85639</td>\n",
       "      <td>0106020C0</td>\n",
       "      <td>Bisacodyl_Tab E/C 5mg</td>\n",
       "      <td>1</td>\n",
       "      <td>0.39</td>\n",
       "      <td>0.47</td>\n",
       "      <td>12</td>\n",
       "      <td>0.001064</td>\n",
       "    </tr>\n",
       "    <tr>\n",
       "      <th>93</th>\n",
       "      <td>0106020C0</td>\n",
       "      <td>N81013</td>\n",
       "      <td>0106020C0</td>\n",
       "      <td>Bisacodyl_Tab E/C 5mg</td>\n",
       "      <td>19</td>\n",
       "      <td>28.10</td>\n",
       "      <td>28.14</td>\n",
       "      <td>860</td>\n",
       "      <td>0.001064</td>\n",
       "    </tr>\n",
       "    <tr>\n",
       "      <th>1579</th>\n",
       "      <td>0106020C0</td>\n",
       "      <td>N81029</td>\n",
       "      <td>0106020C0</td>\n",
       "      <td>Bisacodyl_Tab E/C 5mg</td>\n",
       "      <td>50</td>\n",
       "      <td>67.73</td>\n",
       "      <td>67.51</td>\n",
       "      <td>2074</td>\n",
       "      <td>0.001064</td>\n",
       "    </tr>\n",
       "    <tr>\n",
       "      <th>1580</th>\n",
       "      <td>0106020C0</td>\n",
       "      <td>N81029</td>\n",
       "      <td>0106020C0</td>\n",
       "      <td>Bisacodyl_Suppos 10mg</td>\n",
       "      <td>1</td>\n",
       "      <td>1.77</td>\n",
       "      <td>1.75</td>\n",
       "      <td>6</td>\n",
       "      <td>0.001064</td>\n",
       "    </tr>\n",
       "    <tr>\n",
       "      <th>1581</th>\n",
       "      <td>0106020C0</td>\n",
       "      <td>N81029</td>\n",
       "      <td>0106020C0</td>\n",
       "      <td>Dulcolax_Tab 5mg</td>\n",
       "      <td>1</td>\n",
       "      <td>3.78</td>\n",
       "      <td>3.61</td>\n",
       "      <td>56</td>\n",
       "      <td>0.001064</td>\n",
       "    </tr>\n",
       "  </tbody>\n",
       "</table>\n",
       "</div>"
      ],
      "text/plain": [
       "       bnf_code practice bnf_code_x               bnf_name  items    nic  \\\n",
       "0     0106020C0   N85639  0106020C0  Bisacodyl_Tab E/C 5mg      1   0.39   \n",
       "93    0106020C0   N81013  0106020C0  Bisacodyl_Tab E/C 5mg     19  28.10   \n",
       "1579  0106020C0   N81029  0106020C0  Bisacodyl_Tab E/C 5mg     50  67.73   \n",
       "1580  0106020C0   N81029  0106020C0  Bisacodyl_Suppos 10mg      1   1.77   \n",
       "1581  0106020C0   N81029  0106020C0       Dulcolax_Tab 5mg      1   3.78   \n",
       "\n",
       "      act_cost  quantity  bnf_code_y  \n",
       "0         0.47        12    0.001064  \n",
       "93       28.14       860    0.001064  \n",
       "1579     67.51      2074    0.001064  \n",
       "1580      1.75         6    0.001064  \n",
       "1581      3.61        56    0.001064  "
      ]
     },
     "execution_count": 66,
     "metadata": {},
     "output_type": "execute_result"
    }
   ],
   "source": [
    "scripts_q6_df = pd.merge(scripts_q6_df,rates,left_on='bnf_code',right_index=True)\n",
    "scripts_q6_df.head()"
   ]
  },
  {
   "cell_type": "code",
   "execution_count": 27,
   "metadata": {},
   "outputs": [],
   "source": [
    "rare_codes =0"
   ]
  },
  {
   "cell_type": "code",
   "execution_count": 67,
   "metadata": {},
   "outputs": [],
   "source": [
    "scripts_q6_df['rare'] = scripts_q6_df['bnf_code_y']<(0.1*p)"
   ]
  },
  {
   "cell_type": "code",
   "execution_count": 68,
   "metadata": {},
   "outputs": [],
   "source": [
    "scripts_q6_df.rename(columns={'bnf_code_y':'rates'},inplace=True)"
   ]
  },
  {
   "cell_type": "code",
   "execution_count": 69,
   "metadata": {},
   "outputs": [
    {
     "data": {
      "text/plain": [
       "(11570, 10)"
      ]
     },
     "execution_count": 69,
     "metadata": {},
     "output_type": "execute_result"
    }
   ],
   "source": [
    "scripts_q6_df[scripts_q6_df['rare']].shape"
   ]
  },
  {
   "cell_type": "markdown",
   "metadata": {},
   "source": [
    "Now for each practice, calculate the proportion of costs that originate from prescription of rare treatments (i.e. rare `'bnf_code'`). Use the `'act_cost'` field for this calculation."
   ]
  },
  {
   "cell_type": "code",
   "execution_count": 70,
   "metadata": {},
   "outputs": [
    {
     "data": {
      "text/plain": [
       "0.015962901360950382"
      ]
     },
     "execution_count": 70,
     "metadata": {},
     "output_type": "execute_result"
    }
   ],
   "source": [
    "rare_costs = scripts_q6_df[scripts_q6_df.rare == True].groupby(['practice','rare'])['act_cost'].sum()\n",
    "rare_total_cost = sum(rare_costs)\n",
    "total_act_cost = scripts_q6_df['act_cost'].sum()\n",
    "overall_rare_cost_prop = rare_total_cost/total_act_cost\n",
    "overall_rare_cost_prop"
   ]
  },
  {
   "cell_type": "code",
   "execution_count": 39,
   "metadata": {},
   "outputs": [],
   "source": [
    "# def find_cost(groupby_object):\n",
    "#     return groupby_object.groupby('rare')['act_cost'].sum()\n",
    "# rare_cost_per_practice= scripts_q6_df.groupby('practice').apply(find_cost)\n",
    "# rare_cost_per_practice"
   ]
  },
  {
   "cell_type": "code",
   "execution_count": 71,
   "metadata": {},
   "outputs": [],
   "source": [
    "act_cost_per_practice =scripts_q6_df.groupby('practice')['act_cost'].sum()\n",
    "rare_cost_per_practice = scripts_q6_df[scripts_q6_df.rare == True].groupby('practice')['act_cost'].sum()\n",
    "costs_df = pd.merge(act_cost_per_practice,rare_cost_per_practice,left_index=True,right_index=True,how='left')\n",
    "costs_df ['rare_cost_prop'] = costs_df['act_cost_y']/costs_df['act_cost_x']\n",
    "costs_df['rare_cost_prop'].fillna(0,inplace=True)"
   ]
  },
  {
   "cell_type": "code",
   "execution_count": 72,
   "metadata": {},
   "outputs": [],
   "source": [
    "rare_cost_prop = costs_df['rare_cost_prop']"
   ]
  },
  {
   "cell_type": "markdown",
   "metadata": {},
   "source": [
    "Now we will calculate a z-score for each practice based on this proportion.\n",
    "First take the difference of `rare_cost_prop` and the proportion of costs originating from rare treatments across all practices."
   ]
  },
  {
   "cell_type": "code",
   "execution_count": 73,
   "metadata": {},
   "outputs": [],
   "source": [
    "relative_rare_cost_prop = rare_cost_prop-overall_rare_cost_prop"
   ]
  },
  {
   "cell_type": "markdown",
   "metadata": {},
   "source": [
    "Now we will estimate the standard errors (i.e. the denominator of the z-score) by simply taking the standard deviation of this difference."
   ]
  },
  {
   "cell_type": "code",
   "execution_count": 74,
   "metadata": {},
   "outputs": [
    {
     "data": {
      "text/plain": [
       "0.06050888706745139"
      ]
     },
     "execution_count": 74,
     "metadata": {},
     "output_type": "execute_result"
    }
   ],
   "source": [
    "standard_errors = relative_rare_cost_prop.std()\n",
    "standard_errors"
   ]
  },
  {
   "cell_type": "markdown",
   "metadata": {},
   "source": [
    "Finally compute the z-scores. Return the practices with the top 100 z-scores in the form `(post_code, practice_name, z-score)`. Note that some practice codes will correspond with multiple names. In this case, use the first match when sorting names alphabetically."
   ]
  },
  {
   "cell_type": "code",
   "execution_count": 76,
   "metadata": {},
   "outputs": [
    {
     "data": {
      "text/plain": [
       "practice\n",
       "A81005   -0.065216\n",
       "A81007   -0.125308\n",
       "A81011   -0.179263\n",
       "A81012   -0.036615\n",
       "A81017   -0.142190\n",
       "            ...   \n",
       "Y05570   -0.263811\n",
       "Y05583   -0.263811\n",
       "Y05597   -0.263811\n",
       "Y05660   -0.258473\n",
       "Y05670   -0.263811\n",
       "Name: rare_cost_prop, Length: 856, dtype: float64"
      ]
     },
     "execution_count": 76,
     "metadata": {},
     "output_type": "execute_result"
    }
   ],
   "source": [
    "rare_scores = relative_rare_cost_prop/standard_errors\n",
    "rare_scores"
   ]
  },
  {
   "cell_type": "code",
   "execution_count": 97,
   "metadata": {},
   "outputs": [
    {
     "data": {
      "text/plain": [
       "code\n",
       "A81001                       THE DENSHAM SURGERY\n",
       "A81002                QUEENS PARK MEDICAL CENTRE\n",
       "A81003                 VICTORIA MEDICAL PRACTICE\n",
       "A81004                   BLUEBELL MEDICAL CENTRE\n",
       "A81005                        SPRINGWOOD SURGERY\n",
       "                           ...                  \n",
       "Y05758                       VC SKELMERSDALE UCC\n",
       "Y05762                    WEST MERTON ACCESS HUB\n",
       "Y05763             ELY LOCAL URGENT CARE SERVICE\n",
       "Y05764                       MINOR INJURIES UNIT\n",
       "Y05771    URGENT CARE CENTRE NORTHWICK PARK HOSP\n",
       "Name: name, Length: 10843, dtype: object"
      ]
     },
     "execution_count": 97,
     "metadata": {},
     "output_type": "execute_result"
    }
   ],
   "source": [
    "practice_names_q6 = practices.groupby('code')['name'].min()\n",
    "practice_names_q6"
   ]
  },
  {
   "cell_type": "code",
   "execution_count": 102,
   "metadata": {},
   "outputs": [
    {
     "data": {
      "text/plain": [
       "(100, 3)"
      ]
     },
     "execution_count": 102,
     "metadata": {},
     "output_type": "execute_result"
    }
   ],
   "source": [
    "# We can finally put all the data together\n",
    "final_data_df = pd.DataFrame({'name':practice_names_q6,'z-scores':rare_scores})\n",
    "final_data_df.reset_index(level=0,inplace=True)\n",
    "final_data_df.sort_values(by=['z-scores'],inplace=True,ascending=False)\n",
    "final_data_df=final_data_df.head(100)\n",
    "final_data_df.shape"
   ]
  },
  {
   "cell_type": "code",
   "execution_count": 103,
   "metadata": {},
   "outputs": [
    {
     "data": {
      "text/plain": [
       "[('Y03472', 'CONSULTANT DIABETES TEAM', 16.262687124655073),\n",
       " ('Y05320', 'DMC COMMUNITY DERMATOLOGY RBWF', 15.128648195416869),\n",
       " ('Y04404', 'OUTPATIENTS JUBILEE HEALTH CENTRE', 7.542139356104621),\n",
       " ('Y03484', 'DMC COMMUNITY DERMATOLOGY CLINIC', 7.287222200297823),\n",
       " ('Y04424', 'DMC HEALTHCARE', 6.838614181432868),\n",
       " ('Y00631', 'BINGLEY DERMATOLOGY CLINIC', 5.755997549837739),\n",
       " ('A89038', 'BARMSTON MEDICAL CENTRE', 5.664940368539937),\n",
       " ('Y01696', 'BASSETLAW HOSPICE OF THE GOOD SHEPHERD', 4.29068517147492),\n",
       " ('Y03699', 'OLDHAM DERMATOLOGY SERVICE', 4.103743999157243),\n",
       " ('Y02045', 'VERNOVA HEALTHCARE CIC', 3.1807154704143983),\n",
       " ('Y02823', 'DMC VICARAGE LANE', 3.054121649498702),\n",
       " ('Y00997', 'COMMUNITY DERMATOLOGY SERVICE', 3.0181283595352766),\n",
       " ('Y05019', 'OLDHAM TOTAL SKIN SERVICE', 2.7247515958989283),\n",
       " ('Y01003', 'BURY OOH', 2.350436347139857),\n",
       " ('Y05431', 'NOTTS APPLIANCE MANAGEMENT SERVICE', 2.037158543233387),\n",
       " ('Y03557', 'IPU 10-17 RECOVERY COVENTRY', 2.0304495001187792),\n",
       " ('Y05419', 'WEEKEND WORKING EASINGTON NORTH', 2.0029603055317033),\n",
       " ('Y05434', 'NOTTS APPLIANCE MANAGEMENT SERVICE', 1.6178155618028067),\n",
       " ('L84042', 'LONDON MEDICAL PRACTICE', 1.6040122379818675),\n",
       " ('Y04871', 'LEARNING ASSESSMENT & NEUROCARE BURY', 1.4408185020947357),\n",
       " ('Y05432', 'NOTTS APPLIANCE MANAGEMENT SERVICE', 1.3052021753375496),\n",
       " ('F86057', 'THE WILLOWS PRACTICE', 1.28095628189427),\n",
       " ('L81673', 'BCH DERMATOLOGY SERVICE', 1.277947442927498),\n",
       " ('Y04089', 'VIRGIN CARE (MIDDLESBROUGH)', 1.205585821536491),\n",
       " ('Y03762', 'BASSETLAW HEALTH PARTNERSHIP', 1.154769031099774),\n",
       " ('Y05430', 'NOTTS APPLIANCE MANAGEMENT SERVICE', 1.1227604679867655),\n",
       " ('B85030', 'SCRIVINGS CLECKHEATON HLTH CTR', 1.1035023773365622),\n",
       " ('P81736', 'WHITEFIELD HEALTHCARE', 1.0939581886026766),\n",
       " ('Y00570', 'GP LED DERMATOLOGY SERVICE', 1.0515619152791937),\n",
       " ('Y04606', 'LANCASTER HOUSE CONTINENCE', 1.032851595393472),\n",
       " ('P81712', 'DARWEN HEALTH CENTRE', 1.0286324480322655),\n",
       " ('Y05433', 'NOTTS APPLIANCE MANAGEMENT SERVICE', 1.027801098310148),\n",
       " ('Y02943', 'NEUROLOGY LONG TERM CONDITIONS', 0.9576943719522105),\n",
       " ('P84051', 'EASTLANDS MEDICAL CENTRE', 0.9070372260702891),\n",
       " ('Y02203', 'DURHAM DALES EAST DERMATOLOGY', 0.8830665514715625),\n",
       " ('G82704', 'THE CHURCH VIEW PRACTICE', 0.8688187586905577),\n",
       " ('F81070', 'GRAFTON SURGERY', 0.8466362126601984),\n",
       " ('Y05435', 'NOTTS APPLIANCE MANAGEMENT SERVICE', 0.8245199350473514),\n",
       " ('P82625', 'CHARLOTTE STREET SURGERY', 0.7738455888380998),\n",
       " ('P82640', 'AL FAL MEDICAL GROUP', 0.7188956515487627),\n",
       " ('F84706', 'DR SKS SWEDAN', 0.7187925567143413),\n",
       " ('Y01168', 'COMMUNITY GYNAECOLOGY SERVICE', 0.6802947549377422),\n",
       " ('N81080', 'NORTHGATE MEDICAL CENTRE', 0.6661638079014605),\n",
       " ('A87022', 'NORTHUMBERLAND PARK MEDICAL GROUP', 0.6387318815059376),\n",
       " ('B83058', 'THE AVICENNA MEDICAL PRACTICE', 0.5975595360581423),\n",
       " ('M85766', 'BALSALL HEATH HEALTH CENTRE (S)', 0.5631450010961301),\n",
       " ('G81658', 'THE STATION PRACTICE', 0.5331888751077339),\n",
       " ('M85715', 'SOHO ROAD PRIMARY CARE CENTRE', 0.5292269288022784),\n",
       " ('E85659', 'DR RK KUKAR  PARKVIEW CTR FOR H&W', 0.5224575320213931),\n",
       " ('M85716', \"DR KHUROO'S PRACTICE\", 0.5057276127409469),\n",
       " ('B83067', 'THE SPRINGFIELD SURGERY (BINGLEY)', 0.5014826110568851),\n",
       " ('B84011', 'CHURCH LANE SURGERY', 0.4971525440866809),\n",
       " ('B83032', 'BRADFORD MOOR PRACTICE', 0.4846018519341155),\n",
       " ('Y00469', \"DR MA SIMS' PRACTICE\", 0.4807898234276768),\n",
       " ('H81034', 'MADEIRA MEDICAL', 0.47344612082053283),\n",
       " ('A83071', 'THE NEW SEAHAM MEDICAL GROUP', 0.4493312931262322),\n",
       " ('P91633', 'GROVE MEDICAL PRACTICE', 0.4149095330333381),\n",
       " ('P84032', 'DR MOKASHI', 0.41412117824419403),\n",
       " ('F84086', 'DR DRIVER & PARTNERS', 0.4101085356904211),\n",
       " ('C83041', 'THE WOODLAND MEDICAL PRACTICE', 0.4013898262090899),\n",
       " ('G82162', 'RAINHAM HEALTHY LIVING CENTRE', 0.3939229790761731),\n",
       " ('A83051', 'MARLBOROUGH SURGERY', 0.3778275531156075),\n",
       " ('C84714', 'SUNRISE MEDICAL PRACTICE (GHATTAORA)', 0.3617147310834938),\n",
       " ('B82016', 'EAST PARADE SURGERY', 0.3557702463337185),\n",
       " ('C84691', 'HIGHGREEN PRACTICE (KHAN)', 0.34336153334736264),\n",
       " ('L82001', 'LANDER MEDICAL PRACTICE', 0.3323566542194171),\n",
       " ('G84027', 'ELM HOUSE SURGERY', 0.32992048438337235),\n",
       " ('Y02957', 'LEWISHAM GP LED HEALTH CENTRE', 0.3243550219588854),\n",
       " ('G85095', 'MANOR PLACE SURGERY', 0.3183746219615437),\n",
       " ('E82656', 'CASSIO SURGERY - E82656', 0.3099049405187385),\n",
       " ('M91017', 'NORTHGATE MEDICAL CENTRE', 0.308996616756014),\n",
       " ('L84008', \"ST.GEORGE'S SURGERY\", 0.3030552835025267),\n",
       " ('P81099', 'DR THM MACKENZIE & PARTNERS', 0.29991096406786133),\n",
       " ('E85018', \"DR SOOD'S PRACTICE\", 0.2891122606207289),\n",
       " ('Y04951', 'ARDEN HEALTHCARE CENTRE', 0.28874892716208156),\n",
       " ('N82051', 'BREEZE HILL - SSP HEALTH LIMITED', 0.2804685439423991),\n",
       " ('H81097', 'RIVER WEY MEDICAL PRACTICE', 0.2791932466218138),\n",
       " ('C82667', 'THE CHARNWOOD PRACTICE', 0.2702309694960074),\n",
       " ('C87622', 'GATEWAY PRIMARY CARE', 0.26645855961846976),\n",
       " ('E85723', 'NORTHOLT FAMILY PRACTICE', 0.26528020519467416),\n",
       " ('C84013', 'BRIDGEGATE AND TALL TREES PARTNERSHIP', 0.26366935264953123),\n",
       " ('E85126', 'GREEN PRACTICE', 0.2622115314666258),\n",
       " ('P92024', 'THE CHANDLER SURGERY', 0.26051575498627805),\n",
       " ('Y01929', 'TELDOC', 0.2569023890358506),\n",
       " ('K82078', 'DR ALLAN AND PARTNERS', 0.25335734886371225),\n",
       " ('M85068', 'THE VESEY PRACTICE', 0.2515841421563213),\n",
       " ('G85034', 'NEXUS HEALTH GROUP', 0.24781145269395996),\n",
       " ('P88023', 'HEALD GREEN HEALTH CENTRE 2', 0.24216851539060305),\n",
       " ('M83629', 'DRAYTON ROAD SURGERY', 0.23361607256962313),\n",
       " ('M83063', 'NORTON CANES HEALTH CENTRE', 0.2329014796032815),\n",
       " ('H81615', 'FARNHAM DENE MEDICAL PRACTICE', 0.2324231396807283),\n",
       " ('D81024', 'THOMAS WALKER', 0.2241541180906278),\n",
       " ('K83051', 'WEAVERS MEDICAL', 0.22201042583580285),\n",
       " ('G85134', 'THE LISTER PRIMARY CARE CENTRE', 0.21810202517578273),\n",
       " ('Y00278', 'DARLASTON HEALTH CENTRE-KHAN', 0.212283533078608),\n",
       " ('Y02671', 'THE PRACTICE HEART OF HOUNSLOW', 0.2088088018243245),\n",
       " ('F84631', 'DR PI ABIOLA', 0.20539081662007086),\n",
       " ('B81012', 'DR AP KUMAR', 0.20369059525865596),\n",
       " ('C83613', 'CAISTOR HEALTH CENTRE', 0.2035002387428452),\n",
       " ('M91614', 'STROUD PRACTICE', 0.20050528609272306)]"
      ]
     },
     "execution_count": 103,
     "metadata": {},
     "output_type": "execute_result"
    }
   ],
   "source": [
    "rare_scripts = list(zip(final_data_df['index'],final_data_df['name'],final_data_df['z-scores']))\n",
    "rare_scripts\n",
    "# rare_scripts = [(\"Y03472\", \"CONSULTANT DIABETES TEAM\", 16.2626871247)] * 100"
   ]
  },
  {
   "cell_type": "code",
   "execution_count": 104,
   "metadata": {},
   "outputs": [
    {
     "name": "stdout",
     "output_type": "stream",
     "text": [
      "==================\n",
      "Your score:  1.0\n",
      "==================\n"
     ]
    }
   ],
   "source": [
    "grader.score.dw__rare_scripts(rare_scripts)"
   ]
  },
  {
   "cell_type": "markdown",
   "metadata": {},
   "source": [
    "*Copyright &copy; 2020 The Data Incubator.  All rights reserved.*"
   ]
  }
 ],
 "metadata": {
  "kernelspec": {
   "display_name": "Python 3",
   "language": "python",
   "name": "python3"
  },
  "language_info": {
   "codemirror_mode": {
    "name": "ipython",
    "version": 3
   },
   "file_extension": ".py",
   "mimetype": "text/x-python",
   "name": "python",
   "nbconvert_exporter": "python",
   "pygments_lexer": "ipython3",
   "version": "3.8.5"
  },
  "nbclean": true
 },
 "nbformat": 4,
 "nbformat_minor": 1
}
